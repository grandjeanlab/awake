{
 "cells": [
  {
   "cell_type": "markdown",
   "metadata": {},
   "source": [
    "<h1 align=\"center\">AwakeRodent, RABIES Analysis Code</h1>\n",
    "\n",
    "<p align=\"center\">&nbsp;&nbsp;&nbsp;&nbsp;&nbsp;&nbsp;&nbsp;&nbsp;&nbsp;&nbsp;&nbsp;&nbsp;&nbsp;&nbsp;&nbsp;&nbsp;&nbsp;&nbsp;&nbsp;&nbsp;&nbsp;&nbsp;&nbsp;&nbsp;&nbsp;&nbsp;&nbsp;&nbsp;&nbsp;&nbsp;&nbsp;&nbsp;&nbsp;&nbsp;&nbsp;&nbsp;&nbsp;&nbsp;&nbsp;&nbsp;&nbsp;&nbsp;&nbsp;&nbsp;&nbsp;&nbsp;&nbsp;&nbsp;&nbsp;&nbsp;&nbsp;&nbsp;&nbsp;&nbsp;&nbsp;&nbsp;&nbsp;&nbsp;&nbsp;&nbsp;&nbsp;&nbsp;&nbsp;&nbsp;&nbsp;&nbsp;&nbsp;&nbsp;&nbsp;<i>Marie E Galteau, 2024</i></p>\n",
    "\n",
    "\n",
    "  <table align=\"center\">\n",
    "    <tr>\n",
    "      <td align=\"center\"><img src=\"https://hpc.nih.gov/images/Singularity.png\" alt=\"image\" width=\"40\" /></td>\n",
    "      <td align=\"center\"><img src=\"https://surfer.nmr.mgh.harvard.edu/pub/data/tmp/brain.png\" alt=\"image\" width=\"150\" /></td>\n",
    "      <td align=\"center\"><img src=\"https://fsl.fmrib.ox.ac.uk/fsl/wiki_static/fsl/img/fsl-logo-x2.png\" alt=\"image\" width=\"70\" /></td>\n",
    "    </tr>\n",
    "  </table>\n",
    "</div>"
   ]
  },
  {
   "cell_type": "code",
   "execution_count": 1,
   "metadata": {},
   "outputs": [
    {
     "name": "stdout",
     "output_type": "stream",
     "text": [
      "CHECK Metadata Path: /home/traaffneu/margal/awake_code/awake/scripts/tables/metadata_rabies.tsv\n"
     ]
    }
   ],
   "source": [
    "# -- Load module for singularity -- \n",
    "\n",
    "!module load singularity\n",
    "!module load freesurfer\n",
    "!module load fsl\n",
    "\n",
    "import os \n",
    "import subprocess\n",
    "import pandas as pd\n",
    "from enum import Enum\n",
    "\n",
    "from IPython.display import display, Markdown, Latex\n",
    "\n",
    "# -- !! Init Variables !! -- \n",
    "scripts_folder='/home/traaffneu/margal/awake_code/awake/scripts/'\n",
    "metadata_path ='/home/traaffneu/margal/awake_code/awake/scripts/tables/metadata_rabies.tsv'\n",
    "#metadata_path ='/home/traaffneu/margal/awake_code/awake/scripts/tables/online-ds_metadata_rabies.tsv'\n",
    "\n",
    "df = pd.read_csv(metadata_path, sep='\\t')\n",
    "df = df.loc[(df['exclude'] != 'yes')]\n",
    "\n",
    "print('CHECK Metadata Path:', metadata_path)"
   ]
  },
  {
   "cell_type": "markdown",
   "metadata": {},
   "source": [
    "#### Define RABIES parameters for analysis"
   ]
  },
  {
   "cell_type": "code",
   "execution_count": 2,
   "metadata": {},
   "outputs": [],
   "source": [
    "# --- Function: analysis, as a job on HPC ---\n",
    "\n",
    "def qsub_analysis_rabies(subj_num, specie, template_dir, BIDS_input, preprocess_outputs, confound_correction_outputs, analysis_outputs, Cmd_B_rat_template_path, seed_mask_list):\n",
    "    \n",
    "    singularity_path='/opt/singularity/3.10.3/bin/singularity'    \n",
    "    if not os.path.exists(analysis_outputs):os.makedirs(analysis_outputs)      # Create confound_correction_outputs directory\n",
    "\n",
    "    # -- Create the full command string --\n",
    "    analysis_cmd = f\"{singularity_path} run \" \\\n",
    "                    f\"{Cmd_B_rat_template_path} \" \\\n",
    "                    f\"-B {BIDS_input}:/BIDS_input:ro \" \\\n",
    "                    f\"-B {preprocess_outputs}:/preprocess_outputs/ \" \\\n",
    "                    f\"-B {confound_correction_outputs}:/confound_correction_outputs/ \" \\\n",
    "                    f\"-B {analysis_outputs}:/analysis_outputs/ \" \\\n",
    "                    \"/opt/rabies/0.5.0/rabies.sif -p MultiProc analysis /confound_correction_outputs/ /analysis_outputs/ \" \\\n",
    "                    f\"--seed_list {' '.join(seed_mask_list)}\" \\\n",
    "                   \n",
    "                                                     \n",
    "#f\"--scan_QC_thresholds '{Dice:[0.3]}' \" \\  \n",
    "                                                     \n",
    "    # Submit the job\n",
    "    cmd = f'echo \"Job running: $(echo \\'{analysis_cmd}\\'| qsub -N Awk-A:{specie},{subj_num} -l nodes=1:ppn=1,mem=64gb,walltime=48:00:00)\"'\n",
    "    subprocess.call(cmd, shell=True)"
   ]
  },
  {
   "cell_type": "markdown",
   "metadata": {},
   "source": [
    "#### Define variable + Launch RABIES analysis"
   ]
  },
  {
   "cell_type": "code",
   "execution_count": 6,
   "metadata": {},
   "outputs": [
    {
     "data": {
      "text/markdown": [
       "Specie: **<span style=\"color:#FFA07A\">R</span>**   \n",
       "Rodent num: <span style=\"color:#FF5733\">0200100</span>  \n",
       "Analysis: <span style=\"color:#FF91A4\">WM_signal, CSF_signal, global_signal</span>  \n",
       "Session n°: <span style=\"color:#45B39D\">1</span>  \n",
       "TR: <span style=\"color:#0099FF\">1</span>  \n"
      ],
      "text/plain": [
       "<IPython.core.display.Markdown object>"
      ]
     },
     "metadata": {},
     "output_type": "display_data"
    },
    {
     "name": "stdout",
     "output_type": "stream",
     "text": [
      "Job running: 51600632.dccn-l029.dccn.nl\n",
      "RABIES analysis using: WM_signal confound\n",
      "-----------\n",
      "Job running: 51600633.dccn-l029.dccn.nl\n",
      "RABIES analysis using: CSF_signal confound\n",
      "-----------\n",
      "Job running: 51600634.dccn-l029.dccn.nl\n",
      "RABIES analysis using: global_signal confound\n",
      "-----------\n",
      "Job running: 51600635.dccn-l029.dccn.nl\n",
      "RABIES analysis using: global_signal_0.1 confounds\n",
      "-----------\n",
      "Job running: 51600636.dccn-l029.dccn.nl\n",
      "RABIES analysis using: global_signal_0.5 confounds\n",
      "-----------\n"
     ]
    },
    {
     "data": {
      "text/markdown": [
       "Specie: **<span style=\"color:#FFA07A\">R</span>**   \n",
       "Rodent num: <span style=\"color:#FF5733\">0200101</span>  \n",
       "Analysis: <span style=\"color:#FF91A4\">WM_signal, CSF_signal, global_signal</span>  \n",
       "Session n°: <span style=\"color:#45B39D\">1</span>  \n",
       "TR: <span style=\"color:#0099FF\">1</span>  \n"
      ],
      "text/plain": [
       "<IPython.core.display.Markdown object>"
      ]
     },
     "metadata": {},
     "output_type": "display_data"
    },
    {
     "name": "stdout",
     "output_type": "stream",
     "text": [
      "Job running: 51600637.dccn-l029.dccn.nl\n",
      "RABIES analysis using: WM_signal confound\n",
      "-----------\n",
      "Job running: 51600638.dccn-l029.dccn.nl\n",
      "RABIES analysis using: CSF_signal confound\n",
      "-----------\n",
      "Job running: 51600639.dccn-l029.dccn.nl\n",
      "RABIES analysis using: global_signal confound\n",
      "-----------\n",
      "Job running: 51600640.dccn-l029.dccn.nl\n",
      "RABIES analysis using: global_signal_0.1 confounds\n",
      "-----------\n",
      "Job running: 51600641.dccn-l029.dccn.nl\n",
      "RABIES analysis using: global_signal_0.5 confounds\n",
      "-----------\n"
     ]
    },
    {
     "data": {
      "text/markdown": [
       "Specie: **<span style=\"color:#FFA07A\">R</span>**   \n",
       "Rodent num: <span style=\"color:#FF5733\">0200102</span>  \n",
       "Analysis: <span style=\"color:#FF91A4\">WM_signal, CSF_signal, global_signal</span>  \n",
       "Session n°: <span style=\"color:#45B39D\">1</span>  \n",
       "TR: <span style=\"color:#0099FF\">1</span>  \n"
      ],
      "text/plain": [
       "<IPython.core.display.Markdown object>"
      ]
     },
     "metadata": {},
     "output_type": "display_data"
    },
    {
     "name": "stdout",
     "output_type": "stream",
     "text": [
      "Job running: 51600642.dccn-l029.dccn.nl\n",
      "RABIES analysis using: WM_signal confound\n",
      "-----------\n",
      "Job running: 51600643.dccn-l029.dccn.nl\n",
      "RABIES analysis using: CSF_signal confound\n",
      "-----------\n",
      "Job running: 51600644.dccn-l029.dccn.nl\n",
      "RABIES analysis using: global_signal confound\n",
      "-----------\n",
      "Job running: 51600645.dccn-l029.dccn.nl\n",
      "RABIES analysis using: global_signal_0.1 confounds\n",
      "-----------\n",
      "Job running: 51600646.dccn-l029.dccn.nl\n",
      "RABIES analysis using: global_signal_0.5 confounds\n",
      "-----------\n"
     ]
    },
    {
     "data": {
      "text/markdown": [
       "Specie: **<span style=\"color:#FFA07A\">R</span>**   \n",
       "Rodent num: <span style=\"color:#FF5733\">0200103</span>  \n",
       "Analysis: <span style=\"color:#FF91A4\">WM_signal, CSF_signal, global_signal</span>  \n",
       "Session n°: <span style=\"color:#45B39D\">1</span>  \n",
       "TR: <span style=\"color:#0099FF\">1</span>  \n"
      ],
      "text/plain": [
       "<IPython.core.display.Markdown object>"
      ]
     },
     "metadata": {},
     "output_type": "display_data"
    },
    {
     "name": "stdout",
     "output_type": "stream",
     "text": [
      "Job running: 51600647.dccn-l029.dccn.nl\n",
      "RABIES analysis using: WM_signal confound\n",
      "-----------\n",
      "Job running: 51600648.dccn-l029.dccn.nl\n",
      "RABIES analysis using: CSF_signal confound\n",
      "-----------\n",
      "RABIES analysis using: global_signal confound\n",
      "-----------\n",
      "Job running: 51600649.dccn-l029.dccn.nl\n",
      "Job running: 51600650.dccn-l029.dccn.nl\n",
      "RABIES analysis using: global_signal_0.1 confounds\n",
      "-----------\n",
      "Job running: 51600651.dccn-l029.dccn.nl\n",
      "RABIES analysis using: global_signal_0.5 confounds\n",
      "-----------\n"
     ]
    },
    {
     "data": {
      "text/markdown": [
       "Specie: **<span style=\"color:#FFA07A\">R</span>**   \n",
       "Rodent num: <span style=\"color:#FF5733\">0200104</span>  \n",
       "Analysis: <span style=\"color:#FF91A4\">WM_signal, CSF_signal, global_signal</span>  \n",
       "Session n°: <span style=\"color:#45B39D\">1</span>  \n",
       "TR: <span style=\"color:#0099FF\">1</span>  \n"
      ],
      "text/plain": [
       "<IPython.core.display.Markdown object>"
      ]
     },
     "metadata": {},
     "output_type": "display_data"
    },
    {
     "name": "stdout",
     "output_type": "stream",
     "text": [
      "Job running: 51600652.dccn-l029.dccn.nl\n",
      "RABIES analysis using: WM_signal confound\n",
      "-----------\n",
      "Job running: 51600653.dccn-l029.dccn.nl\n",
      "RABIES analysis using: CSF_signal confound\n",
      "-----------\n",
      "Job running: 51600654.dccn-l029.dccn.nl\n",
      "RABIES analysis using: global_signal confound\n",
      "-----------\n",
      "Job running: 51600655.dccn-l029.dccn.nl\n",
      "RABIES analysis using: global_signal_0.1 confounds\n",
      "-----------\n",
      "Job running: 51600656.dccn-l029.dccn.nl\n",
      "RABIES analysis using: global_signal_0.5 confounds\n",
      "-----------\n"
     ]
    },
    {
     "data": {
      "text/markdown": [
       "Specie: **<span style=\"color:#FFA07A\">R</span>**   \n",
       "Rodent num: <span style=\"color:#FF5733\">0200105</span>  \n",
       "Analysis: <span style=\"color:#FF91A4\">WM_signal, CSF_signal, global_signal</span>  \n",
       "Session n°: <span style=\"color:#45B39D\">1</span>  \n",
       "TR: <span style=\"color:#0099FF\">1</span>  \n"
      ],
      "text/plain": [
       "<IPython.core.display.Markdown object>"
      ]
     },
     "metadata": {},
     "output_type": "display_data"
    },
    {
     "name": "stdout",
     "output_type": "stream",
     "text": [
      "Job running: 51600657.dccn-l029.dccn.nl\n",
      "RABIES analysis using: WM_signal confound\n",
      "-----------\n",
      "Job running: 51600658.dccn-l029.dccn.nl\n",
      "RABIES analysis using: CSF_signal confound\n",
      "-----------\n",
      "Job running: 51600659.dccn-l029.dccn.nl\n",
      "RABIES analysis using: global_signal confound\n",
      "-----------\n",
      "Job running: 51600660.dccn-l029.dccn.nl\n",
      "RABIES analysis using: global_signal_0.1 confounds\n",
      "-----------\n",
      "Job running: 51600661.dccn-l029.dccn.nl\n",
      "RABIES analysis using: global_signal_0.5 confounds\n",
      "-----------\n"
     ]
    },
    {
     "data": {
      "text/markdown": [
       "Specie: **<span style=\"color:#FFA07A\">R</span>**   \n",
       "Rodent num: <span style=\"color:#FF5733\">0200106</span>  \n",
       "Analysis: <span style=\"color:#FF91A4\">WM_signal, CSF_signal, global_signal</span>  \n",
       "Session n°: <span style=\"color:#45B39D\">1</span>  \n",
       "TR: <span style=\"color:#0099FF\">1</span>  \n"
      ],
      "text/plain": [
       "<IPython.core.display.Markdown object>"
      ]
     },
     "metadata": {},
     "output_type": "display_data"
    },
    {
     "name": "stdout",
     "output_type": "stream",
     "text": [
      "Job running: 51600662.dccn-l029.dccn.nl\n",
      "RABIES analysis using: WM_signal confound\n",
      "-----------\n",
      "Job running: 51600663.dccn-l029.dccn.nl\n",
      "RABIES analysis using: CSF_signal confound\n",
      "-----------\n",
      "Job running: 51600664.dccn-l029.dccn.nl\n",
      "RABIES analysis using: global_signal confound\n",
      "-----------\n",
      "RABIES analysis using: global_signal_0.1 confounds\n",
      "-----------\n",
      "Job running: 51600665.dccn-l029.dccn.nl\n",
      "Job running: 51600666.dccn-l029.dccn.nl\n",
      "RABIES analysis using: global_signal_0.5 confounds\n",
      "-----------\n"
     ]
    },
    {
     "data": {
      "text/markdown": [
       "Specie: **<span style=\"color:#FFA07A\">R</span>**   \n",
       "Rodent num: <span style=\"color:#FF5733\">0200107</span>  \n",
       "Analysis: <span style=\"color:#FF91A4\">WM_signal, CSF_signal, global_signal</span>  \n",
       "Session n°: <span style=\"color:#45B39D\">1</span>  \n",
       "TR: <span style=\"color:#0099FF\">1</span>  \n"
      ],
      "text/plain": [
       "<IPython.core.display.Markdown object>"
      ]
     },
     "metadata": {},
     "output_type": "display_data"
    },
    {
     "name": "stdout",
     "output_type": "stream",
     "text": [
      "Job running: 51600667.dccn-l029.dccn.nl\n",
      "RABIES analysis using: WM_signal confound\n",
      "-----------\n",
      "Job running: 51600668.dccn-l029.dccn.nl\n",
      "RABIES analysis using: CSF_signal confound\n",
      "-----------\n",
      "Job running: 51600669.dccn-l029.dccn.nl\n",
      "RABIES analysis using: global_signal confound\n",
      "-----------\n",
      "Job running: 51600670.dccn-l029.dccn.nl\n",
      "RABIES analysis using: global_signal_0.1 confounds\n",
      "-----------\n",
      "Job running: 51600671.dccn-l029.dccn.nl\n",
      "RABIES analysis using: global_signal_0.5 confounds\n",
      "-----------\n"
     ]
    },
    {
     "data": {
      "text/markdown": [
       "Specie: **<span style=\"color:#FFA07A\">R</span>**   \n",
       "Rodent num: <span style=\"color:#FF5733\">0200108</span>  \n",
       "Analysis: <span style=\"color:#FF91A4\">WM_signal, CSF_signal, global_signal</span>  \n",
       "Session n°: <span style=\"color:#45B39D\">1</span>  \n",
       "TR: <span style=\"color:#0099FF\">1</span>  \n"
      ],
      "text/plain": [
       "<IPython.core.display.Markdown object>"
      ]
     },
     "metadata": {},
     "output_type": "display_data"
    },
    {
     "name": "stdout",
     "output_type": "stream",
     "text": [
      "Job running: 51600672.dccn-l029.dccn.nl\n",
      "RABIES analysis using: WM_signal confound\n",
      "-----------\n",
      "Job running: 51600673.dccn-l029.dccn.nl\n",
      "RABIES analysis using: CSF_signal confound\n",
      "-----------\n",
      "Job running: 51600674.dccn-l029.dccn.nl\n",
      "RABIES analysis using: global_signal confound\n",
      "-----------\n",
      "Job running: 51600675.dccn-l029.dccn.nl\n",
      "RABIES analysis using: global_signal_0.1 confounds\n",
      "-----------\n",
      "Job running: 51600676.dccn-l029.dccn.nl\n",
      "RABIES analysis using: global_signal_0.5 confounds\n",
      "-----------\n"
     ]
    },
    {
     "data": {
      "text/markdown": [
       "Specie: **<span style=\"color:#FFA07A\">R</span>**   \n",
       "Rodent num: <span style=\"color:#FF5733\">0200109</span>  \n",
       "Analysis: <span style=\"color:#FF91A4\">WM_signal, CSF_signal, global_signal</span>  \n",
       "Session n°: <span style=\"color:#45B39D\">1</span>  \n",
       "TR: <span style=\"color:#0099FF\">1</span>  \n"
      ],
      "text/plain": [
       "<IPython.core.display.Markdown object>"
      ]
     },
     "metadata": {},
     "output_type": "display_data"
    },
    {
     "name": "stdout",
     "output_type": "stream",
     "text": [
      "Job running: 51600677.dccn-l029.dccn.nl\n",
      "RABIES analysis using: WM_signal confound\n",
      "-----------\n",
      "Job running: 51600678.dccn-l029.dccn.nl\n",
      "RABIES analysis using: CSF_signal confound\n",
      "-----------\n",
      "Job running: 51600679.dccn-l029.dccn.nl\n",
      "RABIES analysis using: global_signal confound\n",
      "-----------\n",
      "Job running: 51600680.dccn-l029.dccn.nl\n",
      "RABIES analysis using: global_signal_0.1 confounds\n",
      "-----------\n",
      "Job running: 51600681.dccn-l029.dccn.nl\n",
      "RABIES analysis using: global_signal_0.5 confounds\n",
      "-----------\n"
     ]
    },
    {
     "data": {
      "text/markdown": [
       "Specie: **<span style=\"color:#FFA07A\">R</span>**   \n",
       "Rodent num: <span style=\"color:#FF5733\">0200110</span>  \n",
       "Analysis: <span style=\"color:#FF91A4\">WM_signal, CSF_signal, global_signal</span>  \n",
       "Session n°: <span style=\"color:#45B39D\">1</span>  \n",
       "TR: <span style=\"color:#0099FF\">1</span>  \n"
      ],
      "text/plain": [
       "<IPython.core.display.Markdown object>"
      ]
     },
     "metadata": {},
     "output_type": "display_data"
    },
    {
     "name": "stdout",
     "output_type": "stream",
     "text": [
      "Job running: 51600682.dccn-l029.dccn.nl\n",
      "RABIES analysis using: WM_signal confound\n",
      "-----------\n",
      "Job running: 51600683.dccn-l029.dccn.nl\n",
      "RABIES analysis using: CSF_signal confound\n",
      "-----------\n",
      "Job running: 51600684.dccn-l029.dccn.nl\n",
      "RABIES analysis using: global_signal confound\n",
      "-----------\n",
      "Job running: 51600685.dccn-l029.dccn.nl\n",
      "RABIES analysis using: global_signal_0.1 confounds\n",
      "-----------\n",
      "Job running: 51600686.dccn-l029.dccn.nl\n",
      "RABIES analysis using: global_signal_0.5 confounds\n",
      "-----------\n"
     ]
    },
    {
     "data": {
      "text/markdown": [
       "Specie: **<span style=\"color:#FFA07A\">R</span>**   \n",
       "Rodent num: <span style=\"color:#FF5733\">0200111</span>  \n",
       "Analysis: <span style=\"color:#FF91A4\">WM_signal, CSF_signal, global_signal</span>  \n",
       "Session n°: <span style=\"color:#45B39D\">1</span>  \n",
       "TR: <span style=\"color:#0099FF\">1</span>  \n"
      ],
      "text/plain": [
       "<IPython.core.display.Markdown object>"
      ]
     },
     "metadata": {},
     "output_type": "display_data"
    },
    {
     "name": "stdout",
     "output_type": "stream",
     "text": [
      "Job running: 51600687.dccn-l029.dccn.nl\n",
      "RABIES analysis using: WM_signal confound\n",
      "-----------\n",
      "Job running: 51600688.dccn-l029.dccn.nl\n",
      "RABIES analysis using: CSF_signal confound\n",
      "-----------\n",
      "Job running: 51600689.dccn-l029.dccn.nl\n",
      "RABIES analysis using: global_signal confound\n",
      "-----------\n",
      "Job running: 51600690.dccn-l029.dccn.nl\n",
      "RABIES analysis using: global_signal_0.1 confounds\n",
      "-----------\n",
      "Job running: 51600691.dccn-l029.dccn.nl\n",
      "RABIES analysis using: global_signal_0.5 confounds\n",
      "-----------\n"
     ]
    },
    {
     "data": {
      "text/markdown": [
       "Specie: **<span style=\"color:#FFA07A\">R</span>**   \n",
       "Rodent num: <span style=\"color:#FF5733\">0200112</span>  \n",
       "Analysis: <span style=\"color:#FF91A4\">WM_signal, CSF_signal, global_signal</span>  \n",
       "Session n°: <span style=\"color:#45B39D\">1</span>  \n",
       "TR: <span style=\"color:#0099FF\">1</span>  \n"
      ],
      "text/plain": [
       "<IPython.core.display.Markdown object>"
      ]
     },
     "metadata": {},
     "output_type": "display_data"
    },
    {
     "name": "stdout",
     "output_type": "stream",
     "text": [
      "Job running: 51600692.dccn-l029.dccn.nl\n",
      "RABIES analysis using: WM_signal confound\n",
      "-----------\n",
      "Job running: 51600693.dccn-l029.dccn.nl\n",
      "RABIES analysis using: CSF_signal confound\n",
      "-----------\n",
      "Job running: 51600694.dccn-l029.dccn.nl\n",
      "RABIES analysis using: global_signal confound\n",
      "-----------\n",
      "Job running: 51600695.dccn-l029.dccn.nl\n",
      "RABIES analysis using: global_signal_0.1 confounds\n",
      "-----------\n",
      "Job running: 51600696.dccn-l029.dccn.nl\n",
      "RABIES analysis using: global_signal_0.5 confounds\n",
      "-----------\n"
     ]
    },
    {
     "data": {
      "text/markdown": [
       "Specie: **<span style=\"color:#FFA07A\">R</span>**   \n",
       "Rodent num: <span style=\"color:#FF5733\">0200113</span>  \n",
       "Analysis: <span style=\"color:#FF91A4\">WM_signal, CSF_signal, global_signal</span>  \n",
       "Session n°: <span style=\"color:#45B39D\">1</span>  \n",
       "TR: <span style=\"color:#0099FF\">1</span>  \n"
      ],
      "text/plain": [
       "<IPython.core.display.Markdown object>"
      ]
     },
     "metadata": {},
     "output_type": "display_data"
    },
    {
     "name": "stdout",
     "output_type": "stream",
     "text": [
      "Job running: 51600697.dccn-l029.dccn.nl\n",
      "RABIES analysis using: WM_signal confound\n",
      "-----------\n",
      "Job running: 51600698.dccn-l029.dccn.nl\n",
      "RABIES analysis using: CSF_signal confound\n",
      "-----------\n",
      "Job running: 51600699.dccn-l029.dccn.nl\n",
      "RABIES analysis using: global_signal confound\n",
      "-----------\n",
      "Job running: 51600700.dccn-l029.dccn.nl\n",
      "RABIES analysis using: global_signal_0.1 confounds\n",
      "-----------\n",
      "Job running: 51600701.dccn-l029.dccn.nl\n",
      "RABIES analysis using: global_signal_0.5 confounds\n",
      "-----------\n"
     ]
    },
    {
     "data": {
      "text/markdown": [
       "Specie: **<span style=\"color:#FFA07A\">R</span>**   \n",
       "Rodent num: <span style=\"color:#FF5733\">0200114</span>  \n",
       "Analysis: <span style=\"color:#FF91A4\">WM_signal, CSF_signal, global_signal</span>  \n",
       "Session n°: <span style=\"color:#45B39D\">1</span>  \n",
       "TR: <span style=\"color:#0099FF\">1</span>  \n"
      ],
      "text/plain": [
       "<IPython.core.display.Markdown object>"
      ]
     },
     "metadata": {},
     "output_type": "display_data"
    },
    {
     "name": "stdout",
     "output_type": "stream",
     "text": [
      "Job running: 51600702.dccn-l029.dccn.nl\n",
      "RABIES analysis using: WM_signal confound\n",
      "-----------\n",
      "Job running: 51600703.dccn-l029.dccn.nl\n",
      "RABIES analysis using: CSF_signal confound\n",
      "-----------\n",
      "Job running: 51600704.dccn-l029.dccn.nl\n",
      "RABIES analysis using: global_signal confound\n",
      "-----------\n",
      "Job running: 51600705.dccn-l029.dccn.nl\n",
      "RABIES analysis using: global_signal_0.1 confounds\n",
      "-----------\n",
      "Job running: 51600706.dccn-l029.dccn.nl\n",
      "RABIES analysis using: global_signal_0.5 confounds\n",
      "-----------\n"
     ]
    },
    {
     "data": {
      "text/markdown": [
       "Specie: **<span style=\"color:#FFA07A\">R</span>**   \n",
       "Rodent num: <span style=\"color:#FF5733\">0200115</span>  \n",
       "Analysis: <span style=\"color:#FF91A4\">WM_signal, CSF_signal, global_signal</span>  \n",
       "Session n°: <span style=\"color:#45B39D\">1</span>  \n",
       "TR: <span style=\"color:#0099FF\">1</span>  \n"
      ],
      "text/plain": [
       "<IPython.core.display.Markdown object>"
      ]
     },
     "metadata": {},
     "output_type": "display_data"
    },
    {
     "name": "stdout",
     "output_type": "stream",
     "text": [
      "Job running: 51600707.dccn-l029.dccn.nl\n",
      "RABIES analysis using: WM_signal confound\n",
      "-----------\n",
      "Job running: 51600708.dccn-l029.dccn.nl\n",
      "RABIES analysis using: CSF_signal confound\n",
      "-----------\n",
      "Job running: 51600709.dccn-l029.dccn.nl\n",
      "RABIES analysis using: global_signal confound\n",
      "-----------\n",
      "Job running: 51600710.dccn-l029.dccn.nl\n",
      "RABIES analysis using: global_signal_0.1 confounds\n",
      "-----------\n",
      "Job running: 51600711.dccn-l029.dccn.nl\n",
      "RABIES analysis using: global_signal_0.5 confounds\n",
      "-----------\n"
     ]
    },
    {
     "data": {
      "text/markdown": [
       "Specie: **<span style=\"color:#FFA07A\">R</span>**   \n",
       "Rodent num: <span style=\"color:#FF5733\">0200200</span>  \n",
       "Analysis: <span style=\"color:#FF91A4\">WM_signal, CSF_signal, global_signal</span>  \n",
       "Session n°: <span style=\"color:#45B39D\">1</span>  \n",
       "TR: <span style=\"color:#0099FF\">1</span>  \n"
      ],
      "text/plain": [
       "<IPython.core.display.Markdown object>"
      ]
     },
     "metadata": {},
     "output_type": "display_data"
    },
    {
     "name": "stdout",
     "output_type": "stream",
     "text": [
      "Job running: 51600712.dccn-l029.dccn.nl\n",
      "RABIES analysis using: WM_signal confound\n",
      "-----------\n",
      "Job running: 51600713.dccn-l029.dccn.nl\n",
      "RABIES analysis using: CSF_signal confound\n",
      "-----------\n",
      "Job running: 51600714.dccn-l029.dccn.nl\n",
      "RABIES analysis using: global_signal confound\n",
      "-----------\n",
      "Job running: 51600715.dccn-l029.dccn.nl\n",
      "RABIES analysis using: global_signal_0.1 confounds\n",
      "-----------\n",
      "Job running: 51600716.dccn-l029.dccn.nl\n",
      "RABIES analysis using: global_signal_0.5 confounds\n",
      "-----------\n"
     ]
    },
    {
     "data": {
      "text/markdown": [
       "Specie: **<span style=\"color:#FFA07A\">R</span>**   \n",
       "Rodent num: <span style=\"color:#FF5733\">0200201</span>  \n",
       "Analysis: <span style=\"color:#FF91A4\">WM_signal, CSF_signal, global_signal</span>  \n",
       "Session n°: <span style=\"color:#45B39D\">1</span>  \n",
       "TR: <span style=\"color:#0099FF\">1</span>  \n"
      ],
      "text/plain": [
       "<IPython.core.display.Markdown object>"
      ]
     },
     "metadata": {},
     "output_type": "display_data"
    },
    {
     "name": "stdout",
     "output_type": "stream",
     "text": [
      "Job running: 51600717.dccn-l029.dccn.nl\n",
      "RABIES analysis using: WM_signal confound\n",
      "-----------\n",
      "Job running: 51600718.dccn-l029.dccn.nl\n",
      "RABIES analysis using: CSF_signal confound\n",
      "-----------\n",
      "Job running: 51600719.dccn-l029.dccn.nl\n",
      "RABIES analysis using: global_signal confound\n",
      "-----------\n",
      "Job running: 51600720.dccn-l029.dccn.nl\n",
      "RABIES analysis using: global_signal_0.1 confounds\n",
      "-----------\n",
      "Job running: 51600721.dccn-l029.dccn.nl\n",
      "RABIES analysis using: global_signal_0.5 confounds\n",
      "-----------\n"
     ]
    },
    {
     "data": {
      "text/markdown": [
       "Specie: **<span style=\"color:#FFA07A\">R</span>**   \n",
       "Rodent num: <span style=\"color:#FF5733\">0200202</span>  \n",
       "Analysis: <span style=\"color:#FF91A4\">WM_signal, CSF_signal, global_signal</span>  \n",
       "Session n°: <span style=\"color:#45B39D\">1</span>  \n",
       "TR: <span style=\"color:#0099FF\">1</span>  \n"
      ],
      "text/plain": [
       "<IPython.core.display.Markdown object>"
      ]
     },
     "metadata": {},
     "output_type": "display_data"
    },
    {
     "name": "stdout",
     "output_type": "stream",
     "text": [
      "Job running: 51600722.dccn-l029.dccn.nl\n",
      "RABIES analysis using: WM_signal confound\n",
      "-----------\n",
      "Job running: 51600723.dccn-l029.dccn.nl\n",
      "RABIES analysis using: CSF_signal confound\n",
      "-----------\n",
      "Job running: 51600724.dccn-l029.dccn.nl\n",
      "RABIES analysis using: global_signal confound\n",
      "-----------\n",
      "Job running: 51600725.dccn-l029.dccn.nl\n",
      "RABIES analysis using: global_signal_0.1 confounds\n",
      "-----------\n",
      "Job running: 51600726.dccn-l029.dccn.nl\n",
      "RABIES analysis using: global_signal_0.5 confounds\n",
      "-----------\n"
     ]
    },
    {
     "data": {
      "text/markdown": [
       "Specie: **<span style=\"color:#FFA07A\">R</span>**   \n",
       "Rodent num: <span style=\"color:#FF5733\">0200203</span>  \n",
       "Analysis: <span style=\"color:#FF91A4\">WM_signal, CSF_signal, global_signal</span>  \n",
       "Session n°: <span style=\"color:#45B39D\">1</span>  \n",
       "TR: <span style=\"color:#0099FF\">1</span>  \n"
      ],
      "text/plain": [
       "<IPython.core.display.Markdown object>"
      ]
     },
     "metadata": {},
     "output_type": "display_data"
    },
    {
     "name": "stdout",
     "output_type": "stream",
     "text": [
      "Job running: 51600727.dccn-l029.dccn.nl\n",
      "RABIES analysis using: WM_signal confound\n",
      "-----------\n",
      "Job running: 51600728.dccn-l029.dccn.nl\n",
      "RABIES analysis using: CSF_signal confound\n",
      "-----------\n",
      "Job running: 51600729.dccn-l029.dccn.nl\n",
      "RABIES analysis using: global_signal confound\n",
      "-----------\n",
      "Job running: 51600730.dccn-l029.dccn.nl\n",
      "RABIES analysis using: global_signal_0.1 confounds\n",
      "-----------\n",
      "Job running: 51600731.dccn-l029.dccn.nl\n",
      "RABIES analysis using: global_signal_0.5 confounds\n",
      "-----------\n"
     ]
    },
    {
     "data": {
      "text/markdown": [
       "Specie: **<span style=\"color:#FFA07A\">R</span>**   \n",
       "Rodent num: <span style=\"color:#FF5733\">0200204</span>  \n",
       "Analysis: <span style=\"color:#FF91A4\">WM_signal, CSF_signal, global_signal</span>  \n",
       "Session n°: <span style=\"color:#45B39D\">1</span>  \n",
       "TR: <span style=\"color:#0099FF\">1</span>  \n"
      ],
      "text/plain": [
       "<IPython.core.display.Markdown object>"
      ]
     },
     "metadata": {},
     "output_type": "display_data"
    },
    {
     "name": "stdout",
     "output_type": "stream",
     "text": [
      "Job running: 51600732.dccn-l029.dccn.nl\n",
      "RABIES analysis using: WM_signal confound\n",
      "-----------\n",
      "Job running: 51600733.dccn-l029.dccn.nl\n",
      "RABIES analysis using: CSF_signal confound\n",
      "-----------\n",
      "Job running: 51600734.dccn-l029.dccn.nl\n",
      "RABIES analysis using: global_signal confound\n",
      "-----------\n",
      "Job running: 51600735.dccn-l029.dccn.nl\n",
      "RABIES analysis using: global_signal_0.1 confounds\n",
      "-----------\n",
      "Job running: 51600736.dccn-l029.dccn.nl\n",
      "RABIES analysis using: global_signal_0.5 confounds\n",
      "-----------\n"
     ]
    },
    {
     "data": {
      "text/markdown": [
       "Specie: **<span style=\"color:#FFA07A\">R</span>**   \n",
       "Rodent num: <span style=\"color:#FF5733\">0200205</span>  \n",
       "Analysis: <span style=\"color:#FF91A4\">WM_signal, CSF_signal, global_signal</span>  \n",
       "Session n°: <span style=\"color:#45B39D\">1</span>  \n",
       "TR: <span style=\"color:#0099FF\">1</span>  \n"
      ],
      "text/plain": [
       "<IPython.core.display.Markdown object>"
      ]
     },
     "metadata": {},
     "output_type": "display_data"
    },
    {
     "name": "stdout",
     "output_type": "stream",
     "text": [
      "Job running: 51600737.dccn-l029.dccn.nl\n",
      "RABIES analysis using: WM_signal confound\n",
      "-----------\n",
      "Job running: 51600738.dccn-l029.dccn.nl\n",
      "RABIES analysis using: CSF_signal confound\n",
      "-----------\n",
      "Job running: 51600739.dccn-l029.dccn.nl\n",
      "RABIES analysis using: global_signal confound\n",
      "-----------\n",
      "Job running: 51600740.dccn-l029.dccn.nl\n",
      "RABIES analysis using: global_signal_0.1 confounds\n",
      "-----------\n",
      "Job running: 51600741.dccn-l029.dccn.nl\n",
      "RABIES analysis using: global_signal_0.5 confounds\n",
      "-----------\n"
     ]
    },
    {
     "data": {
      "text/markdown": [
       "Specie: **<span style=\"color:#FFA07A\">R</span>**   \n",
       "Rodent num: <span style=\"color:#FF5733\">0200206</span>  \n",
       "Analysis: <span style=\"color:#FF91A4\">WM_signal, CSF_signal, global_signal</span>  \n",
       "Session n°: <span style=\"color:#45B39D\">1</span>  \n",
       "TR: <span style=\"color:#0099FF\">1</span>  \n"
      ],
      "text/plain": [
       "<IPython.core.display.Markdown object>"
      ]
     },
     "metadata": {},
     "output_type": "display_data"
    },
    {
     "name": "stdout",
     "output_type": "stream",
     "text": [
      "Job running: 51600742.dccn-l029.dccn.nl\n",
      "RABIES analysis using: WM_signal confound\n",
      "-----------\n",
      "Job running: 51600743.dccn-l029.dccn.nl\n",
      "RABIES analysis using: CSF_signal confound\n",
      "-----------\n",
      "RABIES analysis using: global_signal confound\n",
      "-----------\n",
      "Job running: 51600744.dccn-l029.dccn.nl\n",
      "Job running: 51600745.dccn-l029.dccn.nl\n",
      "RABIES analysis using: global_signal_0.1 confounds\n",
      "-----------\n",
      "Job running: 51600746.dccn-l029.dccn.nl\n",
      "RABIES analysis using: global_signal_0.5 confounds\n",
      "-----------\n"
     ]
    },
    {
     "data": {
      "text/markdown": [
       "Specie: **<span style=\"color:#FFA07A\">R</span>**   \n",
       "Rodent num: <span style=\"color:#FF5733\">0200207</span>  \n",
       "Analysis: <span style=\"color:#FF91A4\">WM_signal, CSF_signal, global_signal</span>  \n",
       "Session n°: <span style=\"color:#45B39D\">1</span>  \n",
       "TR: <span style=\"color:#0099FF\">2</span>  \n"
      ],
      "text/plain": [
       "<IPython.core.display.Markdown object>"
      ]
     },
     "metadata": {},
     "output_type": "display_data"
    },
    {
     "name": "stdout",
     "output_type": "stream",
     "text": [
      "Job running: 51600747.dccn-l029.dccn.nl\n",
      "RABIES analysis using: WM_signal confound\n",
      "-----------\n",
      "Job running: 51600748.dccn-l029.dccn.nl\n",
      "RABIES analysis using: CSF_signal confound\n",
      "-----------\n",
      "Job running: 51600749.dccn-l029.dccn.nl\n",
      "RABIES analysis using: global_signal confound\n",
      "-----------\n",
      "Job running: 51600750.dccn-l029.dccn.nl\n",
      "RABIES analysis using: global_signal_0.1 confounds\n",
      "-----------\n",
      "Job running: 51600751.dccn-l029.dccn.nl\n",
      "RABIES analysis using: global_signal_0.5 confounds\n",
      "-----------\n"
     ]
    },
    {
     "data": {
      "text/markdown": [
       "Specie: **<span style=\"color:#FFA07A\">R</span>**   \n",
       "Rodent num: <span style=\"color:#FF5733\">0200208</span>  \n",
       "Analysis: <span style=\"color:#FF91A4\">WM_signal, CSF_signal, global_signal</span>  \n",
       "Session n°: <span style=\"color:#45B39D\">1</span>  \n",
       "TR: <span style=\"color:#0099FF\">2</span>  \n"
      ],
      "text/plain": [
       "<IPython.core.display.Markdown object>"
      ]
     },
     "metadata": {},
     "output_type": "display_data"
    },
    {
     "name": "stdout",
     "output_type": "stream",
     "text": [
      "Job running: 51600752.dccn-l029.dccn.nl\n",
      "RABIES analysis using: WM_signal confound\n",
      "-----------\n",
      "Job running: 51600753.dccn-l029.dccn.nl\n",
      "RABIES analysis using: CSF_signal confound\n",
      "-----------\n",
      "Job running: 51600754.dccn-l029.dccn.nl\n",
      "RABIES analysis using: global_signal confound\n",
      "-----------\n",
      "Job running: 51600755.dccn-l029.dccn.nl\n",
      "RABIES analysis using: global_signal_0.1 confounds\n",
      "-----------\n",
      "Job running: 51600756.dccn-l029.dccn.nl\n",
      "RABIES analysis using: global_signal_0.5 confounds\n",
      "-----------\n"
     ]
    },
    {
     "data": {
      "text/markdown": [
       "Specie: **<span style=\"color:#FFA07A\">R</span>**   \n",
       "Rodent num: <span style=\"color:#FF5733\">0200209</span>  \n",
       "Analysis: <span style=\"color:#FF91A4\">WM_signal, CSF_signal, global_signal</span>  \n",
       "Session n°: <span style=\"color:#45B39D\">1</span>  \n",
       "TR: <span style=\"color:#0099FF\">2</span>  \n"
      ],
      "text/plain": [
       "<IPython.core.display.Markdown object>"
      ]
     },
     "metadata": {},
     "output_type": "display_data"
    },
    {
     "name": "stdout",
     "output_type": "stream",
     "text": [
      "Job running: 51600757.dccn-l029.dccn.nl\n",
      "RABIES analysis using: WM_signal confound\n",
      "-----------\n",
      "Job running: 51600758.dccn-l029.dccn.nl\n",
      "RABIES analysis using: CSF_signal confound\n",
      "-----------\n",
      "Job running: 51600759.dccn-l029.dccn.nl\n",
      "RABIES analysis using: global_signal confound\n",
      "-----------\n",
      "Job running: 51600760.dccn-l029.dccn.nl\n",
      "RABIES analysis using: global_signal_0.1 confounds\n",
      "-----------\n",
      "Job running: 51600761.dccn-l029.dccn.nl\n",
      "RABIES analysis using: global_signal_0.5 confounds\n",
      "-----------\n"
     ]
    },
    {
     "data": {
      "text/markdown": [
       "Specie: **<span style=\"color:#FFA07A\">R</span>**   \n",
       "Rodent num: <span style=\"color:#FF5733\">0200210</span>  \n",
       "Analysis: <span style=\"color:#FF91A4\">WM_signal, CSF_signal, global_signal</span>  \n",
       "Session n°: <span style=\"color:#45B39D\">1</span>  \n",
       "TR: <span style=\"color:#0099FF\">2</span>  \n"
      ],
      "text/plain": [
       "<IPython.core.display.Markdown object>"
      ]
     },
     "metadata": {},
     "output_type": "display_data"
    },
    {
     "name": "stdout",
     "output_type": "stream",
     "text": [
      "Job running: 51600762.dccn-l029.dccn.nl\n",
      "RABIES analysis using: WM_signal confound\n",
      "-----------\n",
      "Job running: 51600763.dccn-l029.dccn.nl\n",
      "RABIES analysis using: CSF_signal confound\n",
      "-----------\n",
      "Job running: 51600764.dccn-l029.dccn.nl\n",
      "RABIES analysis using: global_signal confound\n",
      "-----------\n",
      "Job running: 51600765.dccn-l029.dccn.nl\n",
      "RABIES analysis using: global_signal_0.1 confounds\n",
      "-----------\n",
      "Job running: 51600766.dccn-l029.dccn.nl\n",
      "RABIES analysis using: global_signal_0.5 confounds\n",
      "-----------\n"
     ]
    },
    {
     "data": {
      "text/markdown": [
       "Specie: **<span style=\"color:#FFA07A\">R</span>**   \n",
       "Rodent num: <span style=\"color:#FF5733\">0200211</span>  \n",
       "Analysis: <span style=\"color:#FF91A4\">WM_signal, CSF_signal, global_signal</span>  \n",
       "Session n°: <span style=\"color:#45B39D\">1</span>  \n",
       "TR: <span style=\"color:#0099FF\">2</span>  \n"
      ],
      "text/plain": [
       "<IPython.core.display.Markdown object>"
      ]
     },
     "metadata": {},
     "output_type": "display_data"
    },
    {
     "name": "stdout",
     "output_type": "stream",
     "text": [
      "Job running: 51600767.dccn-l029.dccn.nl\n",
      "RABIES analysis using: WM_signal confound\n",
      "-----------\n",
      "Job running: 51600768.dccn-l029.dccn.nl\n",
      "RABIES analysis using: CSF_signal confound\n",
      "-----------\n",
      "Job running: 51600769.dccn-l029.dccn.nl\n",
      "RABIES analysis using: global_signal confound\n",
      "-----------\n",
      "Job running: 51600770.dccn-l029.dccn.nl\n",
      "RABIES analysis using: global_signal_0.1 confounds\n",
      "-----------\n",
      "Job running: 51600771.dccn-l029.dccn.nl\n",
      "RABIES analysis using: global_signal_0.5 confounds\n",
      "-----------\n"
     ]
    },
    {
     "data": {
      "text/markdown": [
       "Specie: **<span style=\"color:#FFA07A\">R</span>**   \n",
       "Rodent num: <span style=\"color:#FF5733\">0200212</span>  \n",
       "Analysis: <span style=\"color:#FF91A4\">WM_signal, CSF_signal, global_signal</span>  \n",
       "Session n°: <span style=\"color:#45B39D\">1</span>  \n",
       "TR: <span style=\"color:#0099FF\">2</span>  \n"
      ],
      "text/plain": [
       "<IPython.core.display.Markdown object>"
      ]
     },
     "metadata": {},
     "output_type": "display_data"
    },
    {
     "name": "stdout",
     "output_type": "stream",
     "text": [
      "Job running: 51600772.dccn-l029.dccn.nl\n",
      "RABIES analysis using: WM_signal confound\n",
      "-----------\n",
      "Job running: 51600773.dccn-l029.dccn.nl\n",
      "RABIES analysis using: CSF_signal confound\n",
      "-----------\n",
      "Job running: 51600774.dccn-l029.dccn.nl\n",
      "RABIES analysis using: global_signal confound\n",
      "-----------\n",
      "Job running: 51600775.dccn-l029.dccn.nl\n",
      "RABIES analysis using: global_signal_0.1 confounds\n",
      "-----------\n",
      "Job running: 51600776.dccn-l029.dccn.nl\n",
      "RABIES analysis using: global_signal_0.5 confounds\n",
      "-----------\n"
     ]
    },
    {
     "data": {
      "text/markdown": [
       "Specie: **<span style=\"color:#FFA07A\">R</span>**   \n",
       "Rodent num: <span style=\"color:#FF5733\">0200213</span>  \n",
       "Analysis: <span style=\"color:#FF91A4\">WM_signal, CSF_signal, global_signal</span>  \n",
       "Session n°: <span style=\"color:#45B39D\">1</span>  \n",
       "TR: <span style=\"color:#0099FF\">2</span>  \n"
      ],
      "text/plain": [
       "<IPython.core.display.Markdown object>"
      ]
     },
     "metadata": {},
     "output_type": "display_data"
    },
    {
     "name": "stdout",
     "output_type": "stream",
     "text": [
      "Job running: 51600777.dccn-l029.dccn.nl\n",
      "RABIES analysis using: WM_signal confound\n",
      "-----------\n",
      "Job running: 51600778.dccn-l029.dccn.nl\n",
      "RABIES analysis using: CSF_signal confound\n",
      "-----------\n",
      "Job running: 51600779.dccn-l029.dccn.nl\n",
      "RABIES analysis using: global_signal confound\n",
      "-----------\n",
      "Job running: 51600780.dccn-l029.dccn.nl\n",
      "RABIES analysis using: global_signal_0.1 confounds\n",
      "-----------\n",
      "Job running: 51600781.dccn-l029.dccn.nl\n",
      "RABIES analysis using: global_signal_0.5 confounds\n",
      "-----------\n"
     ]
    },
    {
     "data": {
      "text/markdown": [
       "Specie: **<span style=\"color:#FFA07A\">R</span>**   \n",
       "Rodent num: <span style=\"color:#FF5733\">0200214</span>  \n",
       "Analysis: <span style=\"color:#FF91A4\">WM_signal, CSF_signal, global_signal</span>  \n",
       "Session n°: <span style=\"color:#45B39D\">1</span>  \n",
       "TR: <span style=\"color:#0099FF\">2</span>  \n"
      ],
      "text/plain": [
       "<IPython.core.display.Markdown object>"
      ]
     },
     "metadata": {},
     "output_type": "display_data"
    },
    {
     "name": "stdout",
     "output_type": "stream",
     "text": [
      "Job running: 51600782.dccn-l029.dccn.nl\n",
      "RABIES analysis using: WM_signal confound\n",
      "-----------\n",
      "Job running: 51600783.dccn-l029.dccn.nl\n",
      "RABIES analysis using: CSF_signal confound\n",
      "-----------\n",
      "Job running: 51600784.dccn-l029.dccn.nl\n",
      "RABIES analysis using: global_signal confound\n",
      "-----------\n",
      "Job running: 51600785.dccn-l029.dccn.nl\n",
      "RABIES analysis using: global_signal_0.1 confounds\n",
      "-----------\n",
      "Job running: 51600786.dccn-l029.dccn.nl\n",
      "RABIES analysis using: global_signal_0.5 confounds\n",
      "-----------\n"
     ]
    },
    {
     "data": {
      "text/markdown": [
       "Specie: **<span style=\"color:#FFA07A\">R</span>**   \n",
       "Rodent num: <span style=\"color:#FF5733\">0200215</span>  \n",
       "Analysis: <span style=\"color:#FF91A4\">WM_signal, CSF_signal, global_signal</span>  \n",
       "Session n°: <span style=\"color:#45B39D\">1</span>  \n",
       "TR: <span style=\"color:#0099FF\">2</span>  \n"
      ],
      "text/plain": [
       "<IPython.core.display.Markdown object>"
      ]
     },
     "metadata": {},
     "output_type": "display_data"
    },
    {
     "name": "stdout",
     "output_type": "stream",
     "text": [
      "Job running: 51600787.dccn-l029.dccn.nl\n",
      "RABIES analysis using: WM_signal confound\n",
      "-----------\n",
      "Job running: 51600788.dccn-l029.dccn.nl\n",
      "RABIES analysis using: CSF_signal confound\n",
      "-----------\n",
      "Job running: 51600789.dccn-l029.dccn.nl\n",
      "RABIES analysis using: global_signal confound\n",
      "-----------\n",
      "Job running: 51600790.dccn-l029.dccn.nl\n",
      "RABIES analysis using: global_signal_0.1 confounds\n",
      "-----------\n",
      "Job running: 51600791.dccn-l029.dccn.nl\n",
      "RABIES analysis using: global_signal_0.5 confounds\n",
      "-----------\n"
     ]
    },
    {
     "data": {
      "text/markdown": [
       "Specie: **<span style=\"color:#FFA07A\">R</span>**   \n",
       "Rodent num: <span style=\"color:#FF5733\">0200216</span>  \n",
       "Analysis: <span style=\"color:#FF91A4\">WM_signal, CSF_signal, global_signal</span>  \n",
       "Session n°: <span style=\"color:#45B39D\">1</span>  \n",
       "TR: <span style=\"color:#0099FF\">2</span>  \n"
      ],
      "text/plain": [
       "<IPython.core.display.Markdown object>"
      ]
     },
     "metadata": {},
     "output_type": "display_data"
    },
    {
     "name": "stdout",
     "output_type": "stream",
     "text": [
      "Job running: 51600792.dccn-l029.dccn.nl\n",
      "RABIES analysis using: WM_signal confound\n",
      "-----------\n",
      "Job running: 51600793.dccn-l029.dccn.nl\n",
      "RABIES analysis using: CSF_signal confound\n",
      "-----------\n",
      "Job running: 51600794.dccn-l029.dccn.nl\n",
      "RABIES analysis using: global_signal confound\n",
      "-----------\n",
      "Job running: 51600795.dccn-l029.dccn.nl\n",
      "RABIES analysis using: global_signal_0.1 confounds\n",
      "-----------\n",
      "Job running: 51600796.dccn-l029.dccn.nl\n",
      "RABIES analysis using: global_signal_0.5 confounds\n",
      "-----------\n"
     ]
    },
    {
     "data": {
      "text/markdown": [
       "Specie: **<span style=\"color:#FFA07A\">R</span>**   \n",
       "Rodent num: <span style=\"color:#FF5733\">0200300</span>  \n",
       "Analysis: <span style=\"color:#FF91A4\">WM_signal, CSF_signal, global_signal</span>  \n",
       "Session n°: <span style=\"color:#45B39D\">2</span>  \n",
       "TR: <span style=\"color:#0099FF\">2</span>  \n"
      ],
      "text/plain": [
       "<IPython.core.display.Markdown object>"
      ]
     },
     "metadata": {},
     "output_type": "display_data"
    },
    {
     "name": "stdout",
     "output_type": "stream",
     "text": [
      "Job running: 51600797.dccn-l029.dccn.nl\n",
      "RABIES analysis using: WM_signal confound\n",
      "-----------\n",
      "Job running: 51600798.dccn-l029.dccn.nl\n",
      "RABIES analysis using: CSF_signal confound\n",
      "-----------\n",
      "Job running: 51600799.dccn-l029.dccn.nl\n",
      "RABIES analysis using: global_signal confound\n",
      "-----------\n",
      "Job running: 51600800.dccn-l029.dccn.nl\n",
      "RABIES analysis using: global_signal_0.1 confounds\n",
      "-----------\n",
      "Job running: 51600801.dccn-l029.dccn.nl\n",
      "RABIES analysis using: global_signal_0.5 confounds\n",
      "-----------\n"
     ]
    },
    {
     "data": {
      "text/markdown": [
       "Specie: **<span style=\"color:#FFA07A\">R</span>**   \n",
       "Rodent num: <span style=\"color:#FF5733\">0200301</span>  \n",
       "Analysis: <span style=\"color:#FF91A4\">WM_signal, CSF_signal, global_signal</span>  \n",
       "Session n°: <span style=\"color:#45B39D\">1</span>  \n",
       "TR: <span style=\"color:#0099FF\">2</span>  \n"
      ],
      "text/plain": [
       "<IPython.core.display.Markdown object>"
      ]
     },
     "metadata": {},
     "output_type": "display_data"
    },
    {
     "name": "stdout",
     "output_type": "stream",
     "text": [
      "Job running: 51600802.dccn-l029.dccn.nl\n",
      "RABIES analysis using: WM_signal confound\n",
      "-----------\n",
      "Job running: 51600803.dccn-l029.dccn.nl\n",
      "RABIES analysis using: CSF_signal confound\n",
      "-----------\n",
      "Job running: 51600804.dccn-l029.dccn.nl\n",
      "RABIES analysis using: global_signal confound\n",
      "-----------\n",
      "Job running: 51600805.dccn-l029.dccn.nl\n",
      "RABIES analysis using: global_signal_0.1 confounds\n",
      "-----------\n",
      "Job running: 51600806.dccn-l029.dccn.nl\n",
      "RABIES analysis using: global_signal_0.5 confounds\n",
      "-----------\n"
     ]
    },
    {
     "data": {
      "text/markdown": [
       "Specie: **<span style=\"color:#FFA07A\">R</span>**   \n",
       "Rodent num: <span style=\"color:#FF5733\">0200302</span>  \n",
       "Analysis: <span style=\"color:#FF91A4\">WM_signal, CSF_signal, global_signal</span>  \n",
       "Session n°: <span style=\"color:#45B39D\">1</span>  \n",
       "TR: <span style=\"color:#0099FF\">2</span>  \n"
      ],
      "text/plain": [
       "<IPython.core.display.Markdown object>"
      ]
     },
     "metadata": {},
     "output_type": "display_data"
    },
    {
     "name": "stdout",
     "output_type": "stream",
     "text": [
      "Job running: 51600807.dccn-l029.dccn.nl\n",
      "RABIES analysis using: WM_signal confound\n",
      "-----------\n",
      "Job running: 51600808.dccn-l029.dccn.nl\n",
      "RABIES analysis using: CSF_signal confound\n",
      "-----------\n",
      "Job running: 51600809.dccn-l029.dccn.nl\n",
      "RABIES analysis using: global_signal confound\n",
      "-----------\n",
      "Job running: 51600810.dccn-l029.dccn.nl\n",
      "RABIES analysis using: global_signal_0.1 confounds\n",
      "-----------\n",
      "Job running: 51600811.dccn-l029.dccn.nl\n",
      "RABIES analysis using: global_signal_0.5 confounds\n",
      "-----------\n"
     ]
    },
    {
     "data": {
      "text/markdown": [
       "Specie: **<span style=\"color:#FFA07A\">R</span>**   \n",
       "Rodent num: <span style=\"color:#FF5733\">0200303</span>  \n",
       "Analysis: <span style=\"color:#FF91A4\">WM_signal, CSF_signal, global_signal</span>  \n",
       "Session n°: <span style=\"color:#45B39D\">2</span>  \n",
       "TR: <span style=\"color:#0099FF\">2</span>  \n"
      ],
      "text/plain": [
       "<IPython.core.display.Markdown object>"
      ]
     },
     "metadata": {},
     "output_type": "display_data"
    },
    {
     "name": "stdout",
     "output_type": "stream",
     "text": [
      "Job running: 51600812.dccn-l029.dccn.nl\n",
      "RABIES analysis using: WM_signal confound\n",
      "-----------\n",
      "Job running: 51600813.dccn-l029.dccn.nl\n",
      "RABIES analysis using: CSF_signal confound\n",
      "-----------\n",
      "Job running: 51600814.dccn-l029.dccn.nl\n",
      "RABIES analysis using: global_signal confound\n",
      "-----------\n",
      "Job running: 51600815.dccn-l029.dccn.nl\n",
      "RABIES analysis using: global_signal_0.1 confounds\n",
      "-----------\n",
      "Job running: 51600816.dccn-l029.dccn.nl\n",
      "RABIES analysis using: global_signal_0.5 confounds\n",
      "-----------\n"
     ]
    },
    {
     "data": {
      "text/markdown": [
       "Specie: **<span style=\"color:#FFA07A\">R</span>**   \n",
       "Rodent num: <span style=\"color:#FF5733\">0200304</span>  \n",
       "Analysis: <span style=\"color:#FF91A4\">WM_signal, CSF_signal, global_signal</span>  \n",
       "Session n°: <span style=\"color:#45B39D\">1</span>  \n",
       "TR: <span style=\"color:#0099FF\">2</span>  \n"
      ],
      "text/plain": [
       "<IPython.core.display.Markdown object>"
      ]
     },
     "metadata": {},
     "output_type": "display_data"
    },
    {
     "name": "stdout",
     "output_type": "stream",
     "text": [
      "Job running: 51600817.dccn-l029.dccn.nl\n",
      "RABIES analysis using: WM_signal confound\n",
      "-----------\n",
      "Job running: 51600818.dccn-l029.dccn.nl\n",
      "RABIES analysis using: CSF_signal confound\n",
      "-----------\n",
      "Job running: 51600819.dccn-l029.dccn.nl\n",
      "RABIES analysis using: global_signal confound\n",
      "-----------\n",
      "Job running: 51600820.dccn-l029.dccn.nl\n",
      "RABIES analysis using: global_signal_0.1 confounds\n",
      "-----------\n",
      "Job running: 51600821.dccn-l029.dccn.nl\n",
      "RABIES analysis using: global_signal_0.5 confounds\n",
      "-----------\n"
     ]
    },
    {
     "data": {
      "text/markdown": [
       "Specie: **<span style=\"color:#FFA07A\">R</span>**   \n",
       "Rodent num: <span style=\"color:#FF5733\">0200305</span>  \n",
       "Analysis: <span style=\"color:#FF91A4\">WM_signal, CSF_signal, global_signal</span>  \n",
       "Session n°: <span style=\"color:#45B39D\">1</span>  \n",
       "TR: <span style=\"color:#0099FF\">2</span>  \n"
      ],
      "text/plain": [
       "<IPython.core.display.Markdown object>"
      ]
     },
     "metadata": {},
     "output_type": "display_data"
    },
    {
     "name": "stdout",
     "output_type": "stream",
     "text": [
      "Job running: 51600822.dccn-l029.dccn.nl\n",
      "RABIES analysis using: WM_signal confound\n",
      "-----------\n",
      "Job running: 51600823.dccn-l029.dccn.nl\n",
      "RABIES analysis using: CSF_signal confound\n",
      "-----------\n",
      "Job running: 51600824.dccn-l029.dccn.nl\n",
      "RABIES analysis using: global_signal confound\n",
      "-----------\n",
      "Job running: 51600825.dccn-l029.dccn.nl\n",
      "RABIES analysis using: global_signal_0.1 confounds\n",
      "-----------\n",
      "Job running: 51600826.dccn-l029.dccn.nl\n",
      "RABIES analysis using: global_signal_0.5 confounds\n",
      "-----------\n"
     ]
    },
    {
     "data": {
      "text/markdown": [
       "Specie: **<span style=\"color:#FFA07A\">R</span>**   \n",
       "Rodent num: <span style=\"color:#FF5733\">0200306</span>  \n",
       "Analysis: <span style=\"color:#FF91A4\">WM_signal, CSF_signal, global_signal</span>  \n",
       "Session n°: <span style=\"color:#45B39D\">2</span>  \n",
       "TR: <span style=\"color:#0099FF\">2</span>  \n"
      ],
      "text/plain": [
       "<IPython.core.display.Markdown object>"
      ]
     },
     "metadata": {},
     "output_type": "display_data"
    },
    {
     "name": "stdout",
     "output_type": "stream",
     "text": [
      "Job running: 51600827.dccn-l029.dccn.nl\n",
      "RABIES analysis using: WM_signal confound\n",
      "-----------\n",
      "Job running: 51600828.dccn-l029.dccn.nl\n",
      "RABIES analysis using: CSF_signal confound\n",
      "-----------\n",
      "Job running: 51600829.dccn-l029.dccn.nl\n",
      "RABIES analysis using: global_signal confound\n",
      "-----------\n",
      "Job running: 51600830.dccn-l029.dccn.nl\n",
      "RABIES analysis using: global_signal_0.1 confounds\n",
      "-----------\n",
      "Job running: 51600831.dccn-l029.dccn.nl\n",
      "RABIES analysis using: global_signal_0.5 confounds\n",
      "-----------\n"
     ]
    },
    {
     "data": {
      "text/markdown": [
       "Specie: **<span style=\"color:#FFA07A\">R</span>**   \n",
       "Rodent num: <span style=\"color:#FF5733\">0200307</span>  \n",
       "Analysis: <span style=\"color:#FF91A4\">WM_signal, CSF_signal, global_signal</span>  \n",
       "Session n°: <span style=\"color:#45B39D\">1</span>  \n",
       "TR: <span style=\"color:#0099FF\">2</span>  \n"
      ],
      "text/plain": [
       "<IPython.core.display.Markdown object>"
      ]
     },
     "metadata": {},
     "output_type": "display_data"
    },
    {
     "name": "stdout",
     "output_type": "stream",
     "text": [
      "Job running: 51600832.dccn-l029.dccn.nl\n",
      "RABIES analysis using: WM_signal confound\n",
      "-----------\n",
      "Job running: 51600833.dccn-l029.dccn.nl\n",
      "RABIES analysis using: CSF_signal confound\n",
      "-----------\n",
      "Job running: 51600834.dccn-l029.dccn.nl\n",
      "RABIES analysis using: global_signal confound\n",
      "-----------\n",
      "Job running: 51600835.dccn-l029.dccn.nl\n",
      "RABIES analysis using: global_signal_0.1 confounds\n",
      "-----------\n",
      "Job running: 51600836.dccn-l029.dccn.nl\n",
      "RABIES analysis using: global_signal_0.5 confounds\n",
      "-----------\n"
     ]
    }
   ],
   "source": [
    "# --- Run RABIES ---\n",
    "    \n",
    "for index in range(62, len(df)):\n",
    "    \n",
    "    # -- Define variables --\n",
    "    subj_num=str(df.iloc[index]['rodent.sub'])[:-2]               #remove the 2 last characters with [:-2]\n",
    "    ses_num=str(df.iloc[index]['rodent.ses'])[:-2] \n",
    "    specie = str(df.iloc[index]['rodent.spiecies']) \n",
    "    TR=str(df.iloc[index]['func.TR'])[:-2]\n",
    "    \n",
    "    analysis_config=str(df.iloc[index]['analysis_config']) \n",
    "    analysis_config_list = analysis_config.split(', ') \n",
    "\n",
    "    if specie == 'Mouse' :\n",
    "        specie = 'M'\n",
    "        bids_folder = '01-03_mice'\n",
    "        template_dir=''\n",
    "        Cmd_B_rat_template_path=''\n",
    "        template=''\n",
    "        mask=''\n",
    "        wm=''\n",
    "        csf=''\n",
    "        atlas=''\n",
    "        roi=''\n",
    "        smoothing = '0.3'\n",
    "        seed_mask_list=[\"/project/4180000.36/AwakeRodent/scratch/RABIES/template/seed_S1-right_mouse.nii.gz\", \"/project/4180000.36/AwakeRodent/scratch/RABIES/template/seed_S1-left_mouse.nii.gz\"]\n",
    "    \n",
    "    else : #'Rat'\n",
    "        specie = 'R'\n",
    "        bids_folder = '02-04_rats'   \n",
    "        template_dir='/groupshare/traaffneu/preclinimg/templates/SIGMA_Wistar_Rat_Brain_TemplatesAndAtlases_Version1.1'\n",
    "        Cmd_B_rat_template_path=f\"-B {template_dir}:/template\"\n",
    "        template='/template/SIGMA_Rat_Anatomical_Imaging/SIGMA_Rat_Anatomical_InVivo_Template/SIGMA_InVivo_Brain_Template.nii'\n",
    "        mask='/template/SIGMA_Rat_Anatomical_Imaging/SIGMA_Rat_Anatomical_InVivo_Template/SIGMA_InVivo_Brain_Mask.nii'\n",
    "        wm='/template/SIGMA_Rat_Anatomical_Imaging/SIGMA_Rat_Anatomical_InVivo_Template/SIGMA_InVivo_WM_bin.nii.gz'\n",
    "        csf='/template/SIGMA_Rat_Anatomical_Imaging/SIGMA_Rat_Anatomical_InVivo_Template/SIGMA_InVivo_CSF_bin.nii.gz'\n",
    "        atlas='/template/SIGMA_Rat_Brain_Atlases/SIGMA_Anatomical_Atlas/SIGMA_Anatomical_Brain_Atlas_rs.nii'\n",
    "        smoothing='0.5'\n",
    "        seed_mask_list=[\"/project/4180000.36/AwakeRodent/scratch/RABIES/template/seed_S1-right_rat.nii.gz\", \"/project/4180000.36/AwakeRodent/scratch/RABIES/template/seed_S1-left_rat.nii.gz\"]\n",
    "\n",
    "    # -- Print scan infos -- \n",
    "    scan_infos=(f'Specie: **<span style=\"color:#FFA07A\">{specie}</span>**   \\n'\n",
    "                f'Rodent num: <span style=\"color:#FF5733\">0{subj_num}</span>  \\n'     \n",
    "                f'Analysis: <span style=\"color:#FF91A4\">{analysis_config}</span>  \\n'\n",
    "                f'Session n°: <span style=\"color:#45B39D\">{ses_num}</span>  \\n'\n",
    "                f'TR: <span style=\"color:#0099FF\">{TR}</span>  \\n')\n",
    "    \n",
    "    display(Markdown(scan_infos)) \n",
    "\n",
    "    # -- Input and output directories -- \n",
    "    orig_bids_dir=f'/project/4180000.36/AwakeRodent/bids/{bids_folder}/'\n",
    "    BIDS_input=f'/project/4180000.36/AwakeRodent/scratch/bids/{bids_folder}/sub-0{subj_num}'\n",
    "    preprocess_outputs=f'/project/4180000.36/AwakeRodent/scratch/RABIES/preprocessed/sub-0{subj_num}_ses-{ses_num}'\n",
    "    \n",
    "    confound_correction_outputs_base=preprocess_outputs+'/confound_correction/'\n",
    "    analysis_outputs_base=preprocess_outputs+'/seed-based_connectivity'\n",
    "\n",
    "    # -- Launch: Analysis --    \n",
    "     \n",
    "    for analysis in analysis_config_list:\n",
    "        \n",
    "        regressors_outputs = os.path.join(confound_correction_outputs_base, analysis)\n",
    "        confound_correction_outputs=regressors_outputs\n",
    "        \n",
    "        analysis_outputs=os.path.join(analysis_outputs_base, f\"SD_{analysis}\")\n",
    "\n",
    "        qsub_analysis_rabies(subj_num, specie, template_dir, BIDS_input, preprocess_outputs, confound_correction_outputs, analysis_outputs, Cmd_B_rat_template_path, seed_mask_list)    \n",
    "        print(f\"RABIES analysis using: {analysis} confound\")\n",
    "        print('-----------') \n",
    "        \n",
    "        if analysis == \"global_signal\":\n",
    "            for FD_threshold in [0.1, 0.5]:                \n",
    "                \n",
    "                global_sign_outputs = os.path.join(confound_correction_outputs_base, f\"Global_signal_{FD_threshold}\")\n",
    "                confound_correction_outputs=global_sign_outputs\n",
    "        \n",
    "                analysis_outputs=os.path.join(analysis_outputs_base, f\"SD_{analysis}{FD_threshold}\")\n",
    "\n",
    "                qsub_analysis_rabies(subj_num, specie, template_dir, BIDS_input, preprocess_outputs, confound_correction_outputs, analysis_outputs, Cmd_B_rat_template_path, seed_mask_list)\n",
    "                print(f\"RABIES analysis using: {analysis}_{FD_threshold} confounds\")\n",
    "                print('-----------') "
   ]
  },
  {
   "cell_type": "markdown",
   "metadata": {},
   "source": [
    "#### TRASH  \n",
    "... with previous scripts"
   ]
  },
  {
   "cell_type": "code",
   "execution_count": 6,
   "metadata": {},
   "outputs": [],
   "source": [
    "# --- Function: launch RABIES analysis, as a job on HPC ---\n",
    "\n",
    "def qsub_analysis_rabies(subj_num, specie, template_dir, BIDS_input, preprocess_outputs, confound_correction_outputs, Cmd_B_rat_template_path, seed_mask_list):\n",
    "    \n",
    "    singularity_path='/opt/singularity/3.10.3/bin/singularity'    \n",
    "    if not os.path.exists(analysis_outputs):os.makedirs(analysis_outputs)      # Create confound_correction_outputs directory\n",
    "\n",
    "    # -- Create the full command string --\n",
    "    analysis_cmd = f\"{singularity_path} run \" \\\n",
    "                    f\"{Cmd_B_rat_template_path} \" \\\n",
    "                    f\"-B {BIDS_input}:/BIDS_input:ro \" \\\n",
    "                    f\"-B {preprocess_outputs}:/preprocess_outputs/ \" \\\n",
    "                    f\"-B {confound_correction_outputs}:/confound_correction_outputs/ \" \\\n",
    "                    f\"-B {analysis_outputs}:/analysis_outputs/ \" \\\n",
    "                    \"/opt/rabies/0.5.0/rabies.sif -p MultiProc analysis /confound_correction_outputs/ /analysis_outputs/ \" \\\n",
    "                        f\"--seed_list {' '.join(seed_mask_list)}\" \\\n",
    "                                                     \n",
    "#f\"--scan_QC_thresholds '{Dice:[0.3]}' \" \\  \n",
    "                                                     \n",
    "    # Submit the job\n",
    "    cmd = f'echo \"Job running: $(echo \\'{analysis_cmd}\\'| qsub -N Awk:{specie},{subj_num} -l nodes=1:ppn=1,mem=64gb,walltime=48:00:00)\"'\n",
    "    subprocess.call(cmd, shell=True)"
   ]
  },
  {
   "cell_type": "code",
   "execution_count": 5,
   "metadata": {},
   "outputs": [
    {
     "name": "stdout",
     "output_type": "stream",
     "text": [
      "RABIES: Already analysed\n"
     ]
    }
   ],
   "source": [
    "    # -- Launch: Analysis --    \n",
    "\n",
    "    class AnalysisConfig(Enum):\n",
    "        RunAnalysis='0'\n",
    "        AlreadyAnalysed='1'\n",
    "     \n",
    "    rabies_analysis_config_value=str(df.iloc[index]['analysis_config'])    \n",
    "    rabies_analysis_config = AnalysisConfig(rabies_analysis_config_value)\n",
    "    \n",
    "    # -- Print scan infos -- \n",
    "    scan_infos=(f'Specie: **<span style=\"color:#FFA07A\">{specie}</span>**   \\n'\n",
    "                f'Rodent num: <span style=\"color:#FF5733\">0{subj_num}</span>  \\n'     \n",
    "                f'Preprocess config: <span style=\"color:#FF91A4\">{rabies_analysis_config_value}</span>  \\n'\n",
    "                f'Session n°: <span style=\"color:#45B39D\">{ses_num}</span>  \\n'\n",
    "                f'TR: <span style=\"color:#0099FF\">{TR}</span>  \\n')\n",
    "\n",
    "    # -- Run RABIES analysis, as a job on the HPC --\n",
    "    \n",
    "    if rabies_analysis_config == AnalysisConfig.RunAnalysis:          \n",
    "         display(Markdown(scan_infos))   \n",
    "         qsub_analysis_rabies(subj_num, specie, template_dir, BIDS_input, preprocess_outputs, confound_correction_outputs, Cmd_B_rat_template_path, seed_mask_list)\n",
    "         print(\"RABIES: analysis\")\n",
    "        \n",
    "    else : \n",
    "        print(\"RABIES: Already analysed\") "
   ]
  },
  {
   "cell_type": "code",
   "execution_count": null,
   "metadata": {},
   "outputs": [],
   "source": [
    "# -- Potentially implement to analysis --\n",
    " \n",
    "    if specie == 'Rat' :\n",
    "        ICA_prior_map=\"/project/4180000.36/AwakeRodent/scratch/template/canica_resting_state.nii.gz\"  #from https://github.com/grandjeanlab/MultiRat/blob/master/assets/nifti/canica_resting_state.nii.gz\n",
    "        prior_bold_idx=\"0 1 3 5 7 8 9 10 11 15 17 18\"      # for rats only ??? because different from defaults\n",
    "        prior_confound_idx=\"2 4 6 12 13 14 16 19\"\n",
    "        prior_seed_mask_list=\n",
    "        seed_mask_list=\n",
    "    else #mouse\n",
    "        ICA_prior_map=\"\"\n",
    "        prior_bold_idx=\"\"\n",
    "        prior_confound_idx=\"\"\n",
    "        prior_seed_mask_list=\"\"\n",
    "        seed_mask_list=\"\"\n",
    "        \n",
    "# f\"--prior_maps {ICA_prior_map} \" \\\n",
    "# f\"--prior_bold_idx {prior_bold_idx} \" \\\n",
    "# f\"--prior_confound_idx {prior_confound_idx} \" \\\n",
    "# \"--data_diagnosis rue\" \\\n",
    "# \"--DR_ICA True \" \\\n",
    "# \"--FC_matrix True \" \\ \n",
    "# f\"--seed_prior_list {prior_seed_mask_list}\"\n",
    "# \"--group_ica='apply'='true','dim'='10','random_seed'='1' \" \\                                             \n",
    "\n"
   ]
  }
 ],
 "metadata": {
  "kernelspec": {
   "display_name": "Python 3",
   "language": "python",
   "name": "python3"
  },
  "language_info": {
   "codemirror_mode": {
    "name": "ipython",
    "version": 3
   },
   "file_extension": ".py",
   "mimetype": "text/x-python",
   "name": "python",
   "nbconvert_exporter": "python",
   "pygments_lexer": "ipython3",
   "version": "3.9.18"
  }
 },
 "nbformat": 4,
 "nbformat_minor": 2
}
