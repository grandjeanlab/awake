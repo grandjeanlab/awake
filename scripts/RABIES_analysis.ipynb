{
 "cells": [
  {
   "cell_type": "markdown",
   "metadata": {},
   "source": [
    "<h1 align=\"center\">AwakeRodent, RABIES Analysis Code</h1>\n",
    "\n",
    "<p align=\"center\">&nbsp;&nbsp;&nbsp;&nbsp;&nbsp;&nbsp;&nbsp;&nbsp;&nbsp;&nbsp;&nbsp;&nbsp;&nbsp;&nbsp;&nbsp;&nbsp;&nbsp;&nbsp;&nbsp;&nbsp;&nbsp;&nbsp;&nbsp;&nbsp;&nbsp;&nbsp;&nbsp;&nbsp;&nbsp;&nbsp;&nbsp;&nbsp;&nbsp;&nbsp;&nbsp;&nbsp;&nbsp;&nbsp;&nbsp;&nbsp;&nbsp;&nbsp;&nbsp;&nbsp;&nbsp;&nbsp;&nbsp;&nbsp;&nbsp;&nbsp;&nbsp;&nbsp;&nbsp;&nbsp;&nbsp;&nbsp;&nbsp;&nbsp;&nbsp;&nbsp;&nbsp;&nbsp;<i>Marie E Galteau, 2023</i></p>\n",
    "\n",
    "\n",
    "  <table align=\"center\">\n",
    "    <tr>\n",
    "      <td align=\"center\"><img src=\"https://hpc.nih.gov/images/Singularity.png\" alt=\"image\" width=\"40\" /></td>\n",
    "      <td align=\"center\"><img src=\"https://surfer.nmr.mgh.harvard.edu/pub/data/tmp/brain.png\" alt=\"image\" width=\"150\" /></td>\n",
    "      <td align=\"center\"><img src=\"https://fsl.fmrib.ox.ac.uk/fsl/wiki_static/fsl/img/fsl-logo-x2.png\" alt=\"image\" width=\"70\" /></td>\n",
    "    </tr>\n",
    "  </table>\n",
    "</div>"
   ]
  },
  {
   "cell_type": "code",
   "execution_count": 16,
   "metadata": {},
   "outputs": [
    {
     "name": "stdout",
     "output_type": "stream",
     "text": [
      "CHECK Metadata Path: /home/traaffneu/margal/awake_code/awake/scripts/tables/metadata_rabies.tsv\n"
     ]
    }
   ],
   "source": [
    "# -- Load module for singularity -- \n",
    "\n",
    "!module load singularity\n",
    "!module load freesurfer\n",
    "!module load fsl\n",
    "\n",
    "import os \n",
    "import subprocess\n",
    "import pandas as pd\n",
    "from enum import Enum\n",
    "\n",
    "from IPython.display import display, Markdown, Latex\n",
    "\n",
    "# -- !! Init Variables !! -- \n",
    "scripts_folder='/home/traaffneu/margal/awake_code/awake/scripts/'\n",
    "metadata_path ='/home/traaffneu/margal/awake_code/awake/scripts/tables/metadata_rabies.tsv'\n",
    "#metadata_path ='/home/traaffneu/margal/awake_code/awake/scripts/tables/online-ds_metadata_rabies.tsv'\n",
    "\n",
    "\n",
    "df = pd.read_csv(metadata_path, sep='\\t')\n",
    "df = df.loc[(df['exclude'] != 'yes')]\n",
    "\n",
    "print('CHECK Metadata Path:', metadata_path)"
   ]
  },
  {
   "cell_type": "markdown",
   "metadata": {},
   "source": [
    "#### Define RABIES parameters for analysis"
   ]
  },
  {
   "cell_type": "code",
   "execution_count": 27,
   "metadata": {},
   "outputs": [],
   "source": [
    "# --- Function: analysis, as a job on HPC ---\n",
    "\n",
    "def qsub_analysis_rabies(subj_num, specie, template_dir, BIDS_input, preprocess_outputs, confound_correction_outputs, analysis_outputs, Cmd_B_rat_template_path, seed_mask_list):\n",
    "    \n",
    "    singularity_path='/opt/singularity/3.10.3/bin/singularity'    \n",
    "    if not os.path.exists(analysis_outputs):os.makedirs(analysis_outputs)      # Create confound_correction_outputs directory\n",
    "\n",
    "    # -- Create the full command string --\n",
    "    analysis_cmd = f\"{singularity_path} run \" \\\n",
    "                    f\"{Cmd_B_rat_template_path} \" \\\n",
    "                    f\"-B {BIDS_input}:/BIDS_input:ro \" \\\n",
    "                    f\"-B {preprocess_outputs}:/preprocess_outputs/ \" \\\n",
    "                    f\"-B {confound_correction_outputs}:/confound_correction_outputs/ \" \\\n",
    "                    f\"-B {analysis_outputs}:/analysis_outputs/ \" \\\n",
    "                    \"/opt/rabies/0.5.0/rabies.sif -p MultiProc analysis /confound_correction_outputs/ /analysis_outputs/ \" \\\n",
    "                    f\"--seed_list {' '.join(seed_mask_list)}\" \\\n",
    "                   \n",
    "                                                     \n",
    "#f\"--scan_QC_thresholds '{Dice:[0.3]}' \" \\  \n",
    "                                                     \n",
    "    # Submit the job\n",
    "    cmd = f'echo \"Job running: $(echo \\'{analysis_cmd}\\'| qsub -N Awk-A:{specie},{subj_num} -l nodes=1:ppn=1,mem=64gb,walltime=48:00:00)\"'\n",
    "    subprocess.call(cmd, shell=True)"
   ]
  },
  {
   "cell_type": "markdown",
   "metadata": {},
   "source": [
    "#### Define variable + Launch RABIES analysis\n",
    "... is yet to be functional"
   ]
  },
  {
   "cell_type": "code",
   "execution_count": 28,
   "metadata": {},
   "outputs": [
    {
     "data": {
      "text/markdown": [
       "Specie: **<span style=\"color:#FFA07A\">M</span>**   \n",
       "Rodent num: <span style=\"color:#FF5733\">0100100</span>  \n",
       "Analysis: <span style=\"color:#FF91A4\">WM_signal, CSF_signal, global_signal</span>  \n",
       "Session n°: <span style=\"color:#45B39D\">1</span>  \n",
       "TR: <span style=\"color:#0099FF\">1</span>  \n"
      ],
      "text/plain": [
       "<IPython.core.display.Markdown object>"
      ]
     },
     "metadata": {},
     "output_type": "display_data"
    },
    {
     "name": "stdout",
     "output_type": "stream",
     "text": [
      "Job running: 51041495.dccn-l029.dccn.nl\n",
      "RABIES analysis using: WM_signal confound\n",
      "-----------\n",
      "Job running: 51041496.dccn-l029.dccn.nl\n",
      "RABIES analysis using: CSF_signal confound\n",
      "-----------\n",
      "Job running: 51041497.dccn-l029.dccn.nl\n",
      "RABIES analysis using: global_signal confound\n",
      "-----------\n",
      "Job running: 51041498.dccn-l029.dccn.nl\n",
      "RABIES analysis using: global_signal_0.1 confounds\n",
      "-----------\n",
      "Job running: 51041499.dccn-l029.dccn.nl\n",
      "RABIES analysis using: global_signal_0.5 confounds\n",
      "-----------\n"
     ]
    }
   ],
   "source": [
    "# --- Run RABIES ---\n",
    "    \n",
    "for index in range(0, 1):\n",
    "    \n",
    "    # -- Define variables --\n",
    "    subj_num=str(df.iloc[index]['rodent.sub'])[:-2]               #remove the 2 last characters with [:-2]\n",
    "    ses_num=str(df.iloc[index]['rodent.ses'])[:-2] \n",
    "    specie = str(df.iloc[index]['rodent.spiecies']) \n",
    "    TR=str(df.iloc[index]['func.TR'])[:-2]\n",
    "    \n",
    "    analysis_config=str(df.iloc[index]['analysis_config']) \n",
    "    analysis_config_list = analysis_config.split(', ') \n",
    "\n",
    "    if specie == 'Mouse' :\n",
    "        specie = 'M'\n",
    "        bids_folder = '01-03_mice'\n",
    "        template_dir=''\n",
    "        Cmd_B_rat_template_path=''\n",
    "        template=''\n",
    "        mask=''\n",
    "        wm=''\n",
    "        csf=''\n",
    "        atlas=''\n",
    "        roi=''\n",
    "        smoothing = '0.3'\n",
    "        seed_mask_list=[\"/project/4180000.36/AwakeRodent/scratch/RABIES/template/seed_S1-right_mouse.nii.gz\", \"/project/4180000.36/AwakeRodent/scratch/RABIES/template/seed_S1-left_mouse.nii.gz\"]\n",
    "    \n",
    "    else : #'Rat'\n",
    "        specie = 'R'\n",
    "        bids_folder = '02-04_rats'   \n",
    "        template_dir='/groupshare/traaffneu/preclinimg/templates/SIGMA_Wistar_Rat_Brain_TemplatesAndAtlases_Version1.1'\n",
    "        Cmd_B_rat_template_path=f\"-B {template_dir}:/template\"\n",
    "        template='/template/SIGMA_Rat_Anatomical_Imaging/SIGMA_Rat_Anatomical_InVivo_Template/SIGMA_InVivo_Brain_Template.nii'\n",
    "        mask='/template/SIGMA_Rat_Anatomical_Imaging/SIGMA_Rat_Anatomical_InVivo_Template/SIGMA_InVivo_Brain_Mask.nii'\n",
    "        wm='/template/SIGMA_Rat_Anatomical_Imaging/SIGMA_Rat_Anatomical_InVivo_Template/SIGMA_InVivo_WM_bin.nii.gz'\n",
    "        csf='/template/SIGMA_Rat_Anatomical_Imaging/SIGMA_Rat_Anatomical_InVivo_Template/SIGMA_InVivo_CSF_bin.nii.gz'\n",
    "        atlas='/template/SIGMA_Rat_Brain_Atlases/SIGMA_Anatomical_Atlas/SIGMA_Anatomical_Brain_Atlas_rs.nii'\n",
    "        smoothing='0.5'\n",
    "        seed_mask_list=[\"/project/4180000.36/AwakeRodent/scratch/RABIES/template/seed_S1-right_rat.nii.gz\", \"/project/4180000.36/AwakeRodent/scratch/RABIES/template/seed_S1-left_rat.nii.gz\"]\n",
    "\n",
    "    # -- Print scan infos -- \n",
    "    scan_infos=(f'Specie: **<span style=\"color:#FFA07A\">{specie}</span>**   \\n'\n",
    "                f'Rodent num: <span style=\"color:#FF5733\">0{subj_num}</span>  \\n'     \n",
    "                f'Analysis: <span style=\"color:#FF91A4\">{analysis_config}</span>  \\n'\n",
    "                f'Session n°: <span style=\"color:#45B39D\">{ses_num}</span>  \\n'\n",
    "                f'TR: <span style=\"color:#0099FF\">{TR}</span>  \\n')\n",
    "    \n",
    "    display(Markdown(scan_infos)) \n",
    "\n",
    "    # -- Input and output directories -- \n",
    "    orig_bids_dir=f'/project/4180000.36/AwakeRodent/bids/{bids_folder}/'\n",
    "    BIDS_input=f'/project/4180000.36/AwakeRodent/scratch/bids/{bids_folder}/sub-0{subj_num}'\n",
    "    preprocess_outputs=f'/project/4180000.36/AwakeRodent/scratch/RABIES/preprocessed/sub-0{subj_num}_ses-{ses_num}'\n",
    "    \n",
    "    confound_correction_outputs_base=preprocess_outputs+'/confound_correction/'\n",
    "    analysis_outputs_base=preprocess_outputs+'/seed-based_connectivity'\n",
    "\n",
    "    # -- Launch: Analysis --    \n",
    "     \n",
    "    for analysis in analysis_config_list:\n",
    "        \n",
    "        regressors_outputs = os.path.join(confound_correction_outputs_base, analysis)\n",
    "        confound_correction_outputs=regressors_outputs\n",
    "        \n",
    "        analysis_outputs=os.path.join(analysis_outputs_base, f\"SD_{analysis}\")\n",
    "        #if not os.path.exists(analysis_outputs):os.makedirs(analysis_outputs)  \n",
    "\n",
    "        qsub_analysis_rabies(subj_num, specie, template_dir, BIDS_input, preprocess_outputs, confound_correction_outputs, analysis_outputs, Cmd_B_rat_template_path, seed_mask_list)    \n",
    "        print(f\"RABIES analysis using: {analysis} confound\")\n",
    "        print('-----------') \n",
    "        \n",
    "        if analysis == \"global_signal\":\n",
    "            for FD_threshold in [0.1, 0.5]:                \n",
    "                \n",
    "                global_sign_outputs = os.path.join(confound_correction_outputs_base, f\"Global_signal_{FD_threshold}\")\n",
    "                confound_correction_outputs=global_sign_outputs\n",
    "                \n",
    "                analysis_outputs=os.path.join(analysis_outputs_base, f\"SD_{analysis}{FD_threshold}\")\n",
    "                #if not os.path.exists(analysis_outputs):os.makedirs(analysis_outputs)  \n",
    "\n",
    "                qsub_analysis_rabies(subj_num, specie, template_dir, BIDS_input, preprocess_outputs, confound_correction_outputs, analysis_outputs, Cmd_B_rat_template_path, seed_mask_list)\n",
    "                print(f\"RABIES analysis using: {analysis}_{FD_threshold} confounds\")\n",
    "                print('-----------') "
   ]
  },
  {
   "cell_type": "markdown",
   "metadata": {},
   "source": [
    "#### TRASH  \n",
    "... with previous scripts"
   ]
  },
  {
   "cell_type": "code",
   "execution_count": 6,
   "metadata": {},
   "outputs": [],
   "source": [
    "# --- Function: launch RABIES analysis, as a job on HPC ---\n",
    "\n",
    "def qsub_analysis_rabies(subj_num, specie, template_dir, BIDS_input, preprocess_outputs, confound_correction_outputs, Cmd_B_rat_template_path, seed_mask_list):\n",
    "    \n",
    "    singularity_path='/opt/singularity/3.10.3/bin/singularity'    \n",
    "    if not os.path.exists(analysis_outputs):os.makedirs(analysis_outputs)      # Create confound_correction_outputs directory\n",
    "\n",
    "    # -- Create the full command string --\n",
    "    analysis_cmd = f\"{singularity_path} run \" \\\n",
    "                    f\"{Cmd_B_rat_template_path} \" \\\n",
    "                    f\"-B {BIDS_input}:/BIDS_input:ro \" \\\n",
    "                    f\"-B {preprocess_outputs}:/preprocess_outputs/ \" \\\n",
    "                    f\"-B {confound_correction_outputs}:/confound_correction_outputs/ \" \\\n",
    "                    f\"-B {analysis_outputs}:/analysis_outputs/ \" \\\n",
    "                    \"/opt/rabies/0.5.0/rabies.sif -p MultiProc analysis /confound_correction_outputs/ /analysis_outputs/ \" \\\n",
    "                        f\"--seed_list {' '.join(seed_mask_list)}\" \\\n",
    "                                                     \n",
    "#f\"--scan_QC_thresholds '{Dice:[0.3]}' \" \\  \n",
    "                                                     \n",
    "    # Submit the job\n",
    "    cmd = f'echo \"Job running: $(echo \\'{analysis_cmd}\\'| qsub -N Awk:{specie},{subj_num} -l nodes=1:ppn=1,mem=64gb,walltime=48:00:00)\"'\n",
    "    subprocess.call(cmd, shell=True)"
   ]
  },
  {
   "cell_type": "code",
   "execution_count": 5,
   "metadata": {},
   "outputs": [
    {
     "name": "stdout",
     "output_type": "stream",
     "text": [
      "RABIES: Already analysed\n"
     ]
    }
   ],
   "source": [
    "    # -- Launch: Analysis --    \n",
    "\n",
    "    class AnalysisConfig(Enum):\n",
    "        RunAnalysis='0'\n",
    "        AlreadyAnalysed='1'\n",
    "     \n",
    "    rabies_analysis_config_value=str(df.iloc[index]['analysis_config'])    \n",
    "    rabies_analysis_config = AnalysisConfig(rabies_analysis_config_value)\n",
    "    \n",
    "    # -- Print scan infos -- \n",
    "    scan_infos=(f'Specie: **<span style=\"color:#FFA07A\">{specie}</span>**   \\n'\n",
    "                f'Rodent num: <span style=\"color:#FF5733\">0{subj_num}</span>  \\n'     \n",
    "                f'Preprocess config: <span style=\"color:#FF91A4\">{rabies_analysis_config_value}</span>  \\n'\n",
    "                f'Session n°: <span style=\"color:#45B39D\">{ses_num}</span>  \\n'\n",
    "                f'TR: <span style=\"color:#0099FF\">{TR}</span>  \\n')\n",
    "\n",
    "    # -- Run RABIES analysis, as a job on the HPC --\n",
    "    \n",
    "    if rabies_analysis_config == AnalysisConfig.RunAnalysis:          \n",
    "         display(Markdown(scan_infos))   \n",
    "         qsub_analysis_rabies(subj_num, specie, template_dir, BIDS_input, preprocess_outputs, confound_correction_outputs, Cmd_B_rat_template_path, seed_mask_list)\n",
    "         print(\"RABIES: analysis\")\n",
    "        \n",
    "    else : \n",
    "        print(\"RABIES: Already analysed\") "
   ]
  },
  {
   "cell_type": "code",
   "execution_count": null,
   "metadata": {},
   "outputs": [],
   "source": [
    "# -- Potentially implement to analysis --\n",
    " \n",
    "    if specie == 'Rat' :\n",
    "        ICA_prior_map=\"/project/4180000.36/AwakeRodent/scratch/template/canica_resting_state.nii.gz\"  #from https://github.com/grandjeanlab/MultiRat/blob/master/assets/nifti/canica_resting_state.nii.gz\n",
    "        prior_bold_idx=\"0 1 3 5 7 8 9 10 11 15 17 18\"      # for rats only ??? because different from defaults\n",
    "        prior_confound_idx=\"2 4 6 12 13 14 16 19\"\n",
    "        prior_seed_mask_list=\n",
    "        seed_mask_list=\n",
    "    else #mouse\n",
    "        ICA_prior_map=\"\"\n",
    "        prior_bold_idx=\"\"\n",
    "        prior_confound_idx=\"\"\n",
    "        prior_seed_mask_list=\"\"\n",
    "        seed_mask_list=\"\"\n",
    "        \n",
    "# f\"--prior_maps {ICA_prior_map} \" \\\n",
    "# f\"--prior_bold_idx {prior_bold_idx} \" \\\n",
    "# f\"--prior_confound_idx {prior_confound_idx} \" \\\n",
    "# \"--data_diagnosis rue\" \\\n",
    "# \"--DR_ICA True \" \\\n",
    "# \"--FC_matrix True \" \\ \n",
    "# f\"--seed_prior_list {prior_seed_mask_list}\"\n",
    "# \"--group_ica='apply'='true','dim'='10','random_seed'='1' \" \\                                             \n",
    "\n"
   ]
  }
 ],
 "metadata": {
  "kernelspec": {
   "display_name": "Python 3",
   "language": "python",
   "name": "python3"
  },
  "language_info": {
   "codemirror_mode": {
    "name": "ipython",
    "version": 3
   },
   "file_extension": ".py",
   "mimetype": "text/x-python",
   "name": "python",
   "nbconvert_exporter": "python",
   "pygments_lexer": "ipython3",
   "version": "3.9.18"
  }
 },
 "nbformat": 4,
 "nbformat_minor": 2
}
