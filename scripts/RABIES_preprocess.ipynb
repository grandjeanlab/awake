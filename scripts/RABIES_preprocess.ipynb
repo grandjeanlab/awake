{
 "cells": [
  {
   "cell_type": "code",
   "execution_count": 6,
   "metadata": {},
   "outputs": [],
   "source": [
    "# -- Load module for singularity -- \n",
    "\n",
    "!module load singularity\n",
    "!module load freesurfer\n",
    "!module load fsl\n",
    "\n",
    "import os \n",
    "import subprocess\n",
    "import pandas as pd\n",
    "from enum import Enum\n",
    "\n",
    "from IPython.display import display, Markdown, Latex\n",
    "\n",
    "# -- Init Variables -- \n",
    "scripts_folder='/home/traaffneu/margal/awake_code/awake/scripts/'\n",
    "metadata_path ='/home/traaffneu/margal/awake_code/awake/scripts/tables/metadata_rabies.tsv'\n",
    "\n",
    "df = pd.read_csv(metadata_path, sep='\\t')\n",
    "df = df.loc[(df['exclude'] != 'yes')]"
   ]
  },
  {
   "cell_type": "markdown",
   "metadata": {},
   "source": [
    "#### DEFINE VARIABLES"
   ]
  },
  {
   "cell_type": "code",
   "execution_count": null,
   "metadata": {},
   "outputs": [],
   "source": [
    "# --- Run RABIES ---\n",
    "    \n",
    "for index in range(0, len(df)):\n",
    "    \n",
    "    # -- Define variables --\n",
    "    subj_num=str(df.iloc[index]['rodent.sub'])[:-2]               #remove the 2 last characters with [:-2]\n",
    "    ses_num=str(df.iloc[index]['rodent.ses'])[:-2] \n",
    "    specie = str(df.iloc[index]['rodent.spiecies']) \n",
    "    TR=str(df.iloc[index]['func.TR'])[:-2]\n",
    "    \n",
    "\n",
    "    if specie == 'Mouse' :\n",
    "        bids_folder = '01_mice'\n",
    "        template_dir=''\n",
    "        template=''\n",
    "        mask=''\n",
    "        wm=''\n",
    "        csf=''\n",
    "        atlas=''\n",
    "        roi=''\n",
    "        smoothing = '0.3'\n",
    "        seed_mask_list=[\"/project/4180000.36/AwakeRodent/scratch/template/seed_S1-right_mouse.nii.gz\", \"/project/4180000.36/AwakeRodent/scratch/template/seed_S1-left_mouse.nii.gz\"]\n",
    "\n",
    "    else : #'Rat'\n",
    "        bids_folder = '02_rats'    \n",
    "        template_dir='/groupshare/traaffneu/preclinimg/templates/SIGMA_Wistar_Rat_Brain_TemplatesAndAtlases_Version1.1'\n",
    "        template='/template/SIGMA_Rat_Anatomical_Imaging/SIGMA_Rat_Anatomical_InVivo_Template/SIGMA_InVivo_Brain_Template.nii'\n",
    "        mask='/template/SIGMA_Rat_Anatomical_Imaging/SIGMA_Rat_Anatomical_InVivo_Template/SIGMA_InVivo_Brain_Mask.nii'\n",
    "        wm='/template/SIGMA_Rat_Anatomical_Imaging/SIGMA_Rat_Anatomical_InVivo_Template/SIGMA_InVivo_WM_bin.nii.gz'\n",
    "        csf='/template/SIGMA_Rat_Anatomical_Imaging/SIGMA_Rat_Anatomical_InVivo_Template/SIGMA_InVivo_CSF_bin.nii.gz'\n",
    "        atlas='/template/SIGMA_Rat_Brain_Atlases/SIGMA_Anatomical_Atlas/SIGMA_Anatomical_Brain_Atlas_rs.nii'\n",
    "        smoothing='0.5'\n",
    "        #seed_mask_list = [f'{analysis_template_path}/seed_S1-left_rat.nii.gz', f'{analysis_template_path}/seed_S1-right_rat.nii.gz']\n",
    "\n",
    "\n",
    "    # -- Input and output directories -- \n",
    "    orig_bids_dir=f'/project/4180000.36/AwakeRodent/bids/{bids_folder}/'\n",
    "    BIDS_input=f'/project/4180000.36/AwakeRodent/scratch/bids/{bids_folder}/sub-0{subj_num}'\n",
    "    preprocess_outputs=f'/project/4180000.36/AwakeRodent/scratch/RABIES_preprocess/sub-0{subj_num}_ses-{ses_num}'\n",
    "    confound_correction_outputs=preprocess_outputs+'/confound_correction_outputs/'\n",
    "    analysis_outputs=preprocess_outputs+'/analysis_outputs'\n",
    "    "
   ]
  },
  {
   "cell_type": "markdown",
   "metadata": {},
   "source": [
    "#### PREPROCESS + CONFONDS"
   ]
  },
  {
   "cell_type": "code",
   "execution_count": null,
   "metadata": {},
   "outputs": [],
   "source": [
    "    class ProcessingConfig(Enum):\n",
    "        DefaultParameters='0'\n",
    "        AlreadyPreprocessed='1'\n",
    "        CorrectiveParameters='2'\n",
    "     \n",
    "    rabies_preprocess_config_value=str(df.iloc[index]['prepro_config'])    \n",
    "    rabies_preprocess_config = ProcessingConfig(rabies_preprocess_config_value)\n",
    "\n",
    "    # -- Print scan infos -- \n",
    "    display(Markdown(f'Specie: **<span style=\"color:#FFA07A\">{specie}</span>**   \\n'\n",
    "                f'Rodent num: <span style=\"color:#FF5733\">0{subj_num}</span>  \\n'     \n",
    "                f'Preprocess config: <span style=\"color:#FF91A4\">{rabies_preprocess_config_value}</span>  \\n'\n",
    "                f'Session n°: <span style=\"color:#45B39D\">{ses_num}</span>  \\n'\n",
    "                f'TR: <span style=\"color:#0099FF\">{TR}</span>  \\n'))\n",
    "    \n",
    "    print(\"done\")\n",
    "    # -- Run RABIES preprocessing and confounds, as a job on the HPC --\n",
    "    if rabies_preprocess_config == ProcessingConfig.CorrectiveParameters:\n",
    "        correction_arg=str(df.iloc[index]['rabies_cor'])\n",
    "        qsub_prepro_rabies_rabies(subj_num, specie, template_dir, BIDS_input, preprocess_outputs, confound_correction_outputs, TR, template, mask, wm, csf, atlas, correction_arg, smoothing)        \n",
    "        print(\"RABIES: corrective params.\")\n",
    "\n",
    "    elif rabies_preprocess_config == ProcessingConfig.DefaultParameters:\n",
    "        correction_arg=''\n",
    "        qsub_prepro_rabies_rabies(subj_num, specie, template_dir, BIDS_input, preprocess_outputs, confound_correction_outputs, TR, template, mask, wm, csf, atlas, correction_arg, smoothing)        \n",
    "        print(\"RABIES: default params.\") \n",
    "        print('-----------')  "
   ]
  },
  {
   "cell_type": "code",
   "execution_count": 9,
   "metadata": {},
   "outputs": [],
   "source": [
    "# --- Function: preprocess + confound, as a job on HPC ---\n",
    "\n",
    "def qsub_prepro_rabies_rabies(subj_num, specie, template_dir, BIDS_input, preprocess_outputs, confound_correction_outputs, TR, template, mask, wm, csf, atlas, correction_arg, smoothing):\n",
    "    \n",
    "    if not os.path.exists(preprocess_outputs):os.makedirs(preprocess_outputs)                    # Create directory\n",
    "    if not os.path.exists(confound_correction_outputs):os.makedirs(confound_correction_outputs)  # Create confound_correction_outputs directory\n",
    "\n",
    "    singularity_path='/opt/singularity/3.10.3/bin/singularity'\n",
    "    \n",
    "    \n",
    "    # -- Create the full command string --\n",
    "        \n",
    "    if specie == 'Rat' :\n",
    "        Cmd_B_rat_template_path=f\"-B {template_dir}:/template\"\n",
    "\n",
    "        rabies_cmd = f\"{singularity_path} run \" \\\n",
    "                f\"{Cmd_B_rat_template_path} \" \\\n",
    "                f\"-B {BIDS_input}:/BIDS_input:ro \" \\\n",
    "                f\"-B {preprocess_outputs}:/preprocess_outputs \" \\\n",
    "                \"/opt/rabies/0.5.0/rabies.sif -p MultiProc preprocess /BIDS_input /preprocess_outputs \" \\\n",
    "                    f\"--TR {TR} \" \\\n",
    "                    f\"--anat_template {template} \" \\\n",
    "                    f\"--brain_mask {mask} \" \\\n",
    "                    f\"--WM_mask {wm} \" \\\n",
    "                    f\"--CSF_mask {csf} \" \\\n",
    "                    f\"--vascular_mask {csf} \" \\\n",
    "                    f\"--labels {atlas} \" \\\n",
    "                    \"--commonspace_reg='masking'='false','brain_extraction'='false','template_registration'='SyN','fast_commonspace'='false' \" \\\n",
    "                    \"--commonspace_resampling '0.3x0.3x0.3' \" \\\n",
    "                    f\"{correction_arg} \" \\\n",
    "                                            \n",
    "    else :\n",
    "        Cmd_B_rat_template_path=''\n",
    "\n",
    "        rabies_cmd = f\"{singularity_path} run \" \\\n",
    "                    f\"-B {BIDS_input}:/BIDS_input:ro \" \\\n",
    "                    f\"-B {preprocess_outputs}:/preprocess_outputs \" \\\n",
    "                    \"/opt/rabies/0.5.0/rabies.sif -p MultiProc preprocess /BIDS_input /preprocess_outputs \" \\\n",
    "                        f\"--TR {TR} \" \\\n",
    "                        \"--commonspace_reg='masking'='false','brain_extraction'='false','template_registration'='SyN','fast_commonspace'='false' \" \\\n",
    "                        \"--commonspace_resampling '0.3x0.3x0.3' \" \\\n",
    "                        f\"{correction_arg} \"\n",
    "    \n",
    "    confound_cmd = \"/opt/singularity/3.10.3/bin/singularity run \" \\\n",
    "                    f\"-B {BIDS_input}:/BIDS_input:ro \" \\\n",
    "                    f\"-B {preprocess_outputs}:/preprocess_outputs \" \\\n",
    "                    f\"-B {preprocess_outputs}:/preprocess_outputs/ \" \\\n",
    "                    f\"-B {confound_correction_outputs}:/confound_correction_outputs \" \\\n",
    "                    f\"{Cmd_B_rat_template_path} \" \\\n",
    "                    \"/opt/rabies/0.5.0/rabies.sif -p MultiProc confound_correction /preprocess_outputs/ /confound_correction_outputs/ \" \\\n",
    "                        f\"--TR {TR} \" \\\n",
    "                        \"--highpass 0.01 \" \\\n",
    "                        \"--lowpass 0.1 \" \\\n",
    "                        \"--edge_cutoff 30 \" \\\n",
    "                        \"--conf_list vascular_signal mot_6 \" \\\n",
    "                        f\"--smoothing_filter {smoothing} \" \\\n",
    "\n",
    "                                                   \n",
    "    # Submit the job\n",
    "    combined_cmd = f'{rabies_cmd} && {confound_cmd}'\n",
    "    cmd = f'echo \"Job running: $(echo \\'{combined_cmd}\\'| qsub -N Awk:{specie},{subj_num} -l nodes=1:ppn=1,mem=64gb,walltime=48:00:00)\"'\n",
    "    subprocess.call(cmd, shell=True)"
   ]
  },
  {
   "cell_type": "markdown",
   "metadata": {},
   "source": [
    "#### ANALYSIS    \n",
    "... is yet to be functional"
   ]
  },
  {
   "cell_type": "code",
   "execution_count": 5,
   "metadata": {},
   "outputs": [],
   "source": [
    "# --- Function: launch RABIES analysis, as a job on HPC ---\n",
    "\n",
    "def qsub_analysis_rabies(subj_num, specie, template_dir, BIDS_input, preprocess_outputs, confound_correction_outputs, seed_mask_list):\n",
    "    \n",
    "    singularity_path='/opt/singularity/3.10.3/bin/singularity'    \n",
    "    if not os.path.exists(analysis_outputs):os.makedirs(analysis_outputs)      # Create confound_correction_outputs directory\n",
    "\n",
    "    # -- Create the full command string --\n",
    "    analysis_cmd = f\"{singularity_path} run \" \\\n",
    "                    f\"-B {BIDS_input}:/BIDS_input:ro \" \\\n",
    "                    f\"-B {preprocess_outputs}:/preprocess_outputs/ \" \\\n",
    "                    f\"-B {confound_correction_outputs}:/confound_correction_outputs/ \" \\\n",
    "                    f\"-B {analysis_outputs}:/analysis_outputs/ \" \\\n",
    "                    \"/opt/rabies/0.5.0/rabies.sif -p MultiProc analysis /confound_correction_outputs/ /analysis_outputs/ \" \\\n",
    "                        f\"--seed_list {' '.join(seed_mask_list)}\" \\\n",
    "                                                     \n",
    "#f\"--scan_QC_thresholds '{Dice:[0.3]}' \" \\  \n",
    "                                                     \n",
    "    # Submit the job\n",
    "    cmd = f'echo \"Job running: $(echo \\'{analysis_cmd}\\'| qsub -N Awk:{specie},{subj_num} -l nodes=1:ppn=1,mem=64gb,walltime=48:00:00)\"'\n",
    "    subprocess.call(cmd, shell=True)"
   ]
  },
  {
   "cell_type": "code",
   "execution_count": 6,
   "metadata": {},
   "outputs": [
    {
     "data": {
      "text/markdown": [
       "Specie: **<span style=\"color:#FFA07A\">Mouse</span>**   \n",
       "Rodent num: <span style=\"color:#FF5733\">0100100</span>  \n",
       "Preprocess tatus: <span style=\"color:#FF91A4\">0.0</span>  \n",
       "Session n°: <span style=\"color:#45B39D\">1</span>  \n",
       "TR: <span style=\"color:#0099FF\">1</span>  \n"
      ],
      "text/plain": [
       "<IPython.core.display.Markdown object>"
      ]
     },
     "metadata": {},
     "output_type": "display_data"
    },
    {
     "name": "stdout",
     "output_type": "stream",
     "text": [
      "Job running: 50561529.dccn-l029.dccn.nl\n",
      "RABIES: analysis\n"
     ]
    }
   ],
   "source": [
    "    # -- Launch: Analysis --    \n",
    "\n",
    "    class AnalysisConfig(Enum):\n",
    "        RunAnalysis='0.0'\n",
    "        AlreadyAnalysed='1.0'\n",
    "     \n",
    "    rabies_analysis_config_value=str(df.iloc[index]['analysis_config'])    \n",
    "    rabies_analysis_config = AnalysisConfig(rabies_analysis_config_value)\n",
    "    \n",
    "    # -- Print scan infos -- \n",
    "    display(Markdown(f'Specie: **<span style=\"color:#FFA07A\">{specie}</span>**   \\n'\n",
    "                f'Rodent num: <span style=\"color:#FF5733\">0{subj_num}</span>  \\n'     \n",
    "                f'Preprocess config: <span style=\"color:#FF91A4\">{rabies_analysis_config_value}</span>  \\n'\n",
    "                f'Session n°: <span style=\"color:#45B39D\">{ses_num}</span>  \\n'\n",
    "                f'TR: <span style=\"color:#0099FF\">{TR}</span>  \\n'))\n",
    "\n",
    "    # -- Run RABIES analysis, as a job on the HPC --\n",
    "    \n",
    "    if rabies_analysis_config == AnalysisConfig.RunAnalysis:          \n",
    "        qsub_analysis_rabies(subj_num, specie, template_dir, BIDS_input, preprocess_outputs, confound_correction_outputs, seed_mask_list)\n",
    "        print(\"RABIES: analysis\")\n",
    "        \n",
    "    else :\n",
    "        print(\"RABIES: Already analysed\") \n",
    "\n",
    "        \n"
   ]
  },
  {
   "cell_type": "markdown",
   "metadata": {},
   "source": [
    "#### AND... TRASH"
   ]
  },
  {
   "cell_type": "code",
   "execution_count": null,
   "metadata": {},
   "outputs": [],
   "source": [
    "# -- Potentially implement to analysis --\n",
    " \n",
    "    if specie == 'Rat' :\n",
    "        ICA_prior_map=\"/project/4180000.36/AwakeRodent/scratch/template/canica_resting_state.nii.gz\"  #from https://github.com/grandjeanlab/MultiRat/blob/master/assets/nifti/canica_resting_state.nii.gz\n",
    "        prior_bold_idx=\"0 1 3 5 7 8 9 10 11 15 17 18\"      # for rats only ??? because different from defaults\n",
    "        prior_confound_idx=\"2 4 6 12 13 14 16 19\"\n",
    "        prior_seed_mask_list=\n",
    "        seed_mask_list=\n",
    "    else\n",
    "        ICA_prior_map=\"\"\n",
    "        prior_bold_idx=\"\"\n",
    "        prior_confound_idx=\"\"\n",
    "        prior_seed_mask_list=\"\"\n",
    "        seed_mask_list=\"\"\n",
    "        \n",
    "# f\"--prior_maps {ICA_prior_map} \" \\\n",
    "# f\"--prior_bold_idx {prior_bold_idx} \" \\\n",
    "# f\"--prior_confound_idx {prior_confound_idx} \" \\\n",
    "# \"--data_diagnosis rue\" \\\n",
    "# \"--DR_ICA True \" \\\n",
    "# \"--FC_matrix True \" \\ \n",
    "# f\"--seed_prior_list {prior_seed_mask_list}\"\n",
    "# \"--group_ica='apply'='true','dim'='10','random_seed'='1' \" \\                                             \n",
    "\n"
   ]
  },
  {
   "cell_type": "code",
   "execution_count": 10,
   "metadata": {},
   "outputs": [
    {
     "name": "stdout",
     "output_type": "stream",
     "text": [
      "100100\n",
      "Job running: 50449119.dccn-l029.dccn.nl\n"
     ]
    },
    {
     "data": {
      "text/plain": [
       "0"
      ]
     },
     "execution_count": 10,
     "metadata": {},
     "output_type": "execute_result"
    }
   ],
   "source": [
    "# --- Run ONLY confounds ---\n",
    "\n",
    "subj_num='100100'             #remove the 2 last characters with [:-2]\n",
    "ses_num='1'\n",
    "specie = 'Mouse'   \n",
    "bids_folder = '01_mice'   \n",
    "print(subj_num)\n",
    "TR='1.0'\n",
    "smoothing = 0.3\n",
    "\n",
    "# -- Templates --\n",
    "template_dir='/groupshare/traaffneu/preclinimg/templates/SIGMA_Wistar_Rat_Brain_TemplatesAndAtlases_Version1.1'\n",
    "# template='/templates/SIGMA_Rat_Anatomical_Imaging/SIGMA_Rat_Anatomical_InVivo_Template/SIGMA_InVivo_Brain_Template.nii'\n",
    "# mask='/templates/SIGMA_Rat_Anatomical_Imaging/SIGMA_Rat_Anatomical_InVivo_Template/SIGMA_InVivo_Brain_Mask.nii'\n",
    "# wm='/templates/SIGMA_Rat_Anatomical_Imaging/SIGMA_Rat_Anatomical_InVivo_Template/SIGMA_InVivo_WM_bin.nii.gz'\n",
    "# csf='/templates/SIGMA_Rat_Anatomical_Imaging/SIGMA_Rat_Anatomical_InVivo_Template/SIGMA_InVivo_CSF_bin.nii.gz'\n",
    "# atlas='/templates/SIGMA_Rat_Brain_Atlases/SIGMA_Anatomical_Atlas/SIGMA_Anatomical_Brain_Atlas_rs.nii'\n",
    "# roi='/templates/groupshare/traaffneu/preclinimg/template/roi/'\n",
    "\n",
    "\n",
    "# -- Input and output directories -- \n",
    "orig_bids_dir=f'/project/4180000.36/AwakeRodent/bids/{bids_folder}/'\n",
    "BIDS_input=f'/project/4180000.36/AwakeRodent/scratch/bids/{bids_folder}/sub-0{subj_num}'\n",
    "preprocess_outputs=f'/project/4180000.36/AwakeRodent/scratch/RABIES_preprocess/sub-0{subj_num}_ses-{ses_num}'\n",
    "\n",
    "preprocess_outputs=f'/project/4180000.36/AwakeRodent/scratch/RABIES_preprocess/sub-0{subj_num}_ses-{ses_num}'\n",
    "if not os.path.exists(f\"{preprocess_outputs}/confound_correction_outputs\"):os.makedirs(f\"{preprocess_outputs}/confound_correction_outputs\")      # Make directories\n",
    "\n",
    "#Cmd_AddRatTemplatePath=f\"-B {template_dir}:/template \" \\\n",
    "Cmd_AddRatTemplatePath=''\n",
    "\n",
    "confound_cmd = \"/opt/singularity/3.10.3/bin/singularity run \" \\\n",
    "                    f\"-B {BIDS_input}:/BIDS_input:ro \" \\\n",
    "                    f\"-B {preprocess_outputs}:/preprocess_outputs \" \\\n",
    "                    f\"-B {preprocess_outputs}:/preprocess_outputs/ \" \\\n",
    "                    f\"-B {preprocess_outputs}/confound_correction_outputs:/confound_correction_outputs \" \\\n",
    "                    f\"{Cmd_AddRatTemplatePath}\" \\\n",
    "                    \"/opt/rabies/0.5.0/rabies.sif -p MultiProc confound_correction /preprocess_outputs/ /confound_correction_outputs/ \" \\\n",
    "                    f\"--smoothing_filter {smoothing} \" \\\n",
    "                    \"--conf_list vascular_signal mot_6 \" \\\n",
    "                    f\"--TR {TR} \" \\\n",
    "                    \"--highpass 0.01 \" \\\n",
    "                    \"--lowpass 0.1 \" \\\n",
    "                    \"--edge_cutoff 30 \" \\\n",
    "\n",
    "                    #f\"-B {template_dir}:/template \" \\\n",
    "                        \n",
    "# cmd = f'echo \"{confound_cmd}\" | qsub -N Cfond:{specie},{subj_num} -l nodes=1:ppn=1,mem=64gb,walltime=4:00:00'\n",
    "# subprocess.call(cmd, shell=True)\n",
    "\n",
    "cmd = f'echo \"Job running: $(echo \\'{confound_cmd}\\' | qsub -N Cfond:{specie},{subj_num} -l nodes=1:ppn=1,mem=64gb,walltime=4:00:00)\"'\n",
    "subprocess.call(cmd, shell=True)\n",
    "\n",
    "\n",
    "                       "
   ]
  }
 ],
 "metadata": {
  "kernelspec": {
   "display_name": "Python 3",
   "language": "python",
   "name": "python3"
  },
  "language_info": {
   "codemirror_mode": {
    "name": "ipython",
    "version": 3
   },
   "file_extension": ".py",
   "mimetype": "text/x-python",
   "name": "python",
   "nbconvert_exporter": "python",
   "pygments_lexer": "ipython3",
   "version": "3.9.18"
  }
 },
 "nbformat": 4,
 "nbformat_minor": 2
}
