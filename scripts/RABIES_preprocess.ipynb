{
 "cells": [
  {
   "cell_type": "code",
   "execution_count": 17,
   "metadata": {},
   "outputs": [],
   "source": [
    "# -- Load module for singularity -- \n",
    "\n",
    "!module load singularity\n",
    "!module load freesurfer\n",
    "!module load fsl\n",
    "\n",
    "import os \n",
    "import subprocess\n",
    "import pandas as pd\n",
    "from enum import Enum\n",
    "\n",
    "from IPython.display import display, Markdown, Latex\n",
    "\n",
    "# -- Init Variables -- \n",
    "scripts_folder='/home/traaffneu/margal/awake_code/awake/scripts/'\n",
    "metadata_path ='/home/traaffneu/margal/awake_code/awake/scripts/tables/metadata_rabies.tsv'\n",
    "\n",
    "df = pd.read_csv(metadata_path, sep='\\t')\n",
    "df = df.loc[(df['exclude'] != 'yes')]\n"
   ]
  },
  {
   "cell_type": "markdown",
   "metadata": {},
   "source": [
    "### RABIES preprocessing commands\n",
    "\n",
    "ALl scans are preprocessed one by one using defaults parameters of RABIES, execpt for the registration to the commonspace. \n",
    "\n",
    "**Mouse** : \n",
    "- template DSURQE (defaults template in RABIES), \n",
    "- smoothing during confound correction: 0.3\n",
    "\n",
    "**Rat** :\n",
    "- template SIGMA, \n",
    "- smoothing during confound correction: 0.5\n",
    "\n",
    "If the QC fails, corrective parameters are applied iteratively. There are specified in the metadata_rabies file, and refered as 'correction_arg' in the present script. \n",
    "\n",
    "1. \"--anat_autobox\\ --bold_autobox\"\n",
    "2. \"--anat_autobox --bold_autobox --bold_inho_cor=method=N4_reg,otsu_thresh=2,multiotsu=false --anat_inho_cor=method=N4_reg,otsu_thresh=2,multiotsu=false\"\n",
    "3. \"--anat_autobox --bold_autobox --bold_inho_cor=method=N4_reg,otsu_thresh=2,multiotsu=false --anat_inho_cor=method=N4_reg,otsu_thresh=2,multiotsu=false --bold2anat_coreg=masking=false,brain_extraction=false,registration=Rigid\"\n",
    "\n"
   ]
  },
  {
   "cell_type": "code",
   "execution_count": 23,
   "metadata": {},
   "outputs": [],
   "source": [
    "# --- Function to launch RABIES as a job ---\n",
    "\n",
    "def queue_process(subj_num, specie, template_dir, input_bids_dir, output_dir, TR, template, mask, wm, csf, atlas, correction_arg, smoothing):\n",
    "    \n",
    "    singularity_path='/opt/singularity/3.10.3/bin/singularity'\n",
    "\n",
    "    # -- Create the full command string --\n",
    "    \n",
    "    if specie == 'Rat' :\n",
    "        Cmd_B_rat_template_path=f\"-B {template_dir}:/template\"\n",
    "\n",
    "        rabies_cmd = f\"{singularity_path} run \" \\\n",
    "                f\"{Cmd_B_rat_template_path} \" \\\n",
    "                f\"-B {input_bids_dir}:/rabies_in:ro \" \\\n",
    "                f\"-B {output_dir}:/rabies_out \" \\\n",
    "                \"/opt/rabies/0.5.0/rabies.sif -p MultiProc preprocess /rabies_in /rabies_out \" \\\n",
    "                    f\"--TR {TR} \" \\\n",
    "                    f\"--anat_template {template} \" \\\n",
    "                    f\"--brain_mask {mask} \" \\\n",
    "                    f\"--WM_mask {wm} \" \\\n",
    "                    f\"--CSF_mask {csf} \" \\\n",
    "                    f\"--vascular_mask {csf} \" \\\n",
    "                    f\"--labels {atlas} \" \\\n",
    "                    \"--commonspace_reg='masking'='false','brain_extraction'='false','template_registration'='SyN','fast_commonspace'='true' \" \\\n",
    "                    \"--commonspace_resampling '0.3x0.3x0.3' \" \\\n",
    "                    f\"{correction_arg} \" \\\n",
    "                        \n",
    "        if not os.path.exists(f\"{output_dir}/confound_correction_outputs\"):os.makedirs(f\"{output_dir}/confound_correction_outputs\")      # Create confound_correction_outputs directory\n",
    "                    \n",
    "    else :\n",
    "        Cmd_B_rat_template_path=''\n",
    "\n",
    "        rabies_cmd = f\"{singularity_path} run \" \\\n",
    "                    f\"-B {input_bids_dir}:/rabies_in:ro \" \\\n",
    "                    f\"-B {output_dir}:/rabies_out \" \\\n",
    "                    \"/opt/rabies/0.5.0/rabies.sif -p MultiProc preprocess /rabies_in /rabies_out \" \\\n",
    "                        f\"--TR {TR} \" \\\n",
    "                        \"--commonspace_reg='masking'='false','brain_extraction'='false','template_registration'='SyN','fast_commonspace'='true' \" \\\n",
    "                        \"--commonspace_resampling '0.3x0.3x0.3' \" \\\n",
    "                        f\"{correction_arg} \"\n",
    "    \n",
    "        if not os.path.exists(f\"{output_dir}/confound_correction_outputs\"):os.makedirs(f\"{output_dir}/confound_correction_outputs\")      # Create confound_correction_outputs directory\n",
    "\n",
    "    confound_cmd = \"/opt/singularity/3.10.3/bin/singularity run \" \\\n",
    "                    f\"-B {input_bids_dir}:/rabies_in:ro \" \\\n",
    "                    f\"-B {output_dir}:/rabies_out \" \\\n",
    "                    f\"-B {output_dir}:/preprocess_outputs/ \" \\\n",
    "                    f\"-B {output_dir}/confound_correction_outputs:/confound_correction_outputs \" \\\n",
    "                    f\"{Cmd_B_rat_template_path} \" \\\n",
    "                    \"/opt/rabies/0.5.0/rabies.sif -p MultiProc confound_correction /preprocess_outputs/ /confound_correction_outputs/ \" \\\n",
    "                        f\"--smoothing_filter {smoothing} \" \\\n",
    "                        f\"--TR {TR} \" \\\n",
    "                        \"--highpass 0.01 \" \\\n",
    "                        \"--lowpass 0.1 \" \\\n",
    "                        \"--edge_cutoff 30 \" \\\n",
    "                                                   \n",
    "    # Submit the job\n",
    "    combined_cmd = f'{rabies_cmd} && {confound_cmd}'\n",
    "    cmd = f'echo \"Job running: $(echo \\'{combined_cmd}\\'| qsub -N Awk:{specie},{subj_num} -l nodes=1:ppn=1,mem=64gb,walltime=20:00:00)\"'\n",
    "    subprocess.call(cmd, shell=True)"
   ]
  },
  {
   "cell_type": "code",
   "execution_count": 24,
   "metadata": {},
   "outputs": [
    {
     "data": {
      "text/markdown": [
       "Specie: **<span style=\"color:#FFA07A\">Mouse</span>**   \n",
       "Rodent num: <span style=\"color:#FF5733\">0100100</span>  \n",
       "Preprocess tatus: <span style=\"color:#FF91A4\">0</span>  \n",
       "Session n°: <span style=\"color:#45B39D\">1</span>  \n",
       "TR: <span style=\"color:#0099FF\">1</span>  \n"
      ],
      "text/plain": [
       "<IPython.core.display.Markdown object>"
      ]
     },
     "metadata": {},
     "output_type": "display_data"
    },
    {
     "name": "stdout",
     "output_type": "stream",
     "text": [
      "Job running: 50425816.dccn-l029.dccn.nl\n",
      "RABIES: default params.\n",
      "-----------\n"
     ]
    },
    {
     "data": {
      "text/markdown": [
       "Specie: **<span style=\"color:#FFA07A\">Rat</span>**   \n",
       "Rodent num: <span style=\"color:#FF5733\">0200100</span>  \n",
       "Preprocess tatus: <span style=\"color:#FF91A4\">0</span>  \n",
       "Session n°: <span style=\"color:#45B39D\">1</span>  \n",
       "TR: <span style=\"color:#0099FF\">1</span>  \n"
      ],
      "text/plain": [
       "<IPython.core.display.Markdown object>"
      ]
     },
     "metadata": {},
     "output_type": "display_data"
    },
    {
     "name": "stdout",
     "output_type": "stream",
     "text": [
      "Job running: 50425817.dccn-l029.dccn.nl\n",
      "RABIES: default params.\n",
      "-----------\n"
     ]
    }
   ],
   "source": [
    "# --- Run RABIES ---\n",
    "    \n",
    "for index in range(0, len(df)):\n",
    "    \n",
    "    # -- Define variables --\n",
    "    subj_num=str(df.iloc[index]['rodent.sub'])[:-2]               #remove the 2 last characters with [:-2]\n",
    "    ses_num=str(df.iloc[index]['rodent.ses'])[:-2] \n",
    "    specie = str(df.iloc[index]['rodent.spiecies']) \n",
    "    TR=str(df.iloc[index]['func.TR'])[:-2]\n",
    "\n",
    "    if specie == 'Mouse' :\n",
    "        bids_folder = '01_mice'\n",
    "        template_dir=''\n",
    "        template=''\n",
    "        mask=''\n",
    "        wm=''\n",
    "        csf=''\n",
    "        atlas=''\n",
    "        roi=''\n",
    "        smoothing = '0.3'\n",
    "\n",
    "    else : #'Rat'\n",
    "        bids_folder = '02_rats'    \n",
    "        template_dir='/groupshare/traaffneu/preclinimg/templates/SIGMA_Wistar_Rat_Brain_TemplatesAndAtlases_Version1.1'\n",
    "        template='/template/SIGMA_Rat_Anatomical_Imaging/SIGMA_Rat_Anatomical_InVivo_Template/SIGMA_InVivo_Brain_Template.nii'\n",
    "        mask='/template/SIGMA_Rat_Anatomical_Imaging/SIGMA_Rat_Anatomical_InVivo_Template/SIGMA_InVivo_Brain_Mask.nii'\n",
    "        wm='/template/SIGMA_Rat_Anatomical_Imaging/SIGMA_Rat_Anatomical_InVivo_Template/SIGMA_InVivo_WM_bin.nii.gz'\n",
    "        csf='/template/SIGMA_Rat_Anatomical_Imaging/SIGMA_Rat_Anatomical_InVivo_Template/SIGMA_InVivo_CSF_bin.nii.gz'\n",
    "        atlas='/template/SIGMA_Rat_Brain_Atlases/SIGMA_Anatomical_Atlas/SIGMA_Anatomical_Brain_Atlas_rs.nii'\n",
    "        smoothing='0.5'\n",
    "\n",
    "    # -- Input and output directories -- \n",
    "    orig_bids_dir=f'/project/4180000.36/AwakeRodent/bids/{bids_folder}/'\n",
    "    input_bids_dir=f'/project/4180000.36/AwakeRodent/scratch/bids/{bids_folder}/sub-0{subj_num}'\n",
    "    output_dir=f'/project/4180000.36/AwakeRodent/scratch/RABIES_preprocess/sub-0{subj_num}_ses-{ses_num}'\n",
    "\n",
    "    # -- Define RABIES parameters --\n",
    "    class ProcessingConfig(Enum):\n",
    "        DefaultParameters='0'\n",
    "        AlreadyPreprocessed='1'\n",
    "        CorrectiveParameters='2'\n",
    "     \n",
    "    rabies_preprocess_config_value=str(df.iloc[index]['rabies_prepro'])    \n",
    "    rabies_preprocess_config = ProcessingConfig(rabies_preprocess_config_value)\n",
    "\n",
    "    # -- Print scan infos -- \n",
    "    display(Markdown(f'Specie: **<span style=\"color:#FFA07A\">{specie}</span>**   \\n'\n",
    "                f'Rodent num: <span style=\"color:#FF5733\">0{subj_num}</span>  \\n'     \n",
    "                f'Preprocess tatus: <span style=\"color:#FF91A4\">{rabies_preprocess_config_value}</span>  \\n'\n",
    "                f'Session n°: <span style=\"color:#45B39D\">{ses_num}</span>  \\n'\n",
    "                f'TR: <span style=\"color:#0099FF\">{TR}</span>  \\n'))\n",
    "    \n",
    "\n",
    "    # -- Run RABIES as a job on the HPC --\n",
    "    if rabies_preprocess_config == ProcessingConfig.CorrectiveParameters:\n",
    "        if not os.path.exists(output_dir):os.makedirs(output_dir)      # Create directory\n",
    "        correction_arg=str(df.iloc[index]['rabies_cor'])\n",
    "        queue_process(subj_num, specie, template_dir, input_bids_dir, output_dir, TR, template, mask, wm, csf, atlas, correction_arg, smoothing)\n",
    "        print(\"RABIES: corrective params.\")\n",
    "\n",
    "    elif rabies_preprocess_config == ProcessingConfig.DefaultParameters:\n",
    "        if not os.path.exists(output_dir):os.makedirs(output_dir)      # Create directory\n",
    "        queue_process(subj_num, specie, template_dir, input_bids_dir, output_dir, TR, template, mask, wm, csf, atlas, correction_arg='', smoothing=smoothing)\n",
    "        print(\"RABIES: default params.\") \n",
    "        print('-----------')    \n"
   ]
  },
  {
   "cell_type": "code",
   "execution_count": 16,
   "metadata": {},
   "outputs": [
    {
     "name": "stdout",
     "output_type": "stream",
     "text": [
      "200100\n",
      "Job running: 50425812.dccn-l029.dccn.nl\n"
     ]
    },
    {
     "data": {
      "text/plain": [
       "0"
      ]
     },
     "execution_count": 16,
     "metadata": {},
     "output_type": "execute_result"
    }
   ],
   "source": [
    "# --- Run only CONFOUNDS ---\n",
    "\n",
    "subj_num='200100'             #remove the 2 last characters with [:-2]\n",
    "ses_num='1'\n",
    "specie = 'Rat'   \n",
    "bids_folder = '02_rats'   \n",
    "print(subj_num)\n",
    "TR='1.0'\n",
    "smoothing = 0.5\n",
    "\n",
    "# -- Templates --\n",
    "template_dir='/groupshare/traaffneu/preclinimg/templates/SIGMA_Wistar_Rat_Brain_TemplatesAndAtlases_Version1.1'\n",
    "# template='/templates/SIGMA_Rat_Anatomical_Imaging/SIGMA_Rat_Anatomical_InVivo_Template/SIGMA_InVivo_Brain_Template.nii'\n",
    "# mask='/templates/SIGMA_Rat_Anatomical_Imaging/SIGMA_Rat_Anatomical_InVivo_Template/SIGMA_InVivo_Brain_Mask.nii'\n",
    "# wm='/templates/SIGMA_Rat_Anatomical_Imaging/SIGMA_Rat_Anatomical_InVivo_Template/SIGMA_InVivo_WM_bin.nii.gz'\n",
    "# csf='/templates/SIGMA_Rat_Anatomical_Imaging/SIGMA_Rat_Anatomical_InVivo_Template/SIGMA_InVivo_CSF_bin.nii.gz'\n",
    "# atlas='/templates/SIGMA_Rat_Brain_Atlases/SIGMA_Anatomical_Atlas/SIGMA_Anatomical_Brain_Atlas_rs.nii'\n",
    "# roi='/templates/groupshare/traaffneu/preclinimg/template/roi/'\n",
    "\n",
    "\n",
    "# -- Input and output directories -- \n",
    "orig_bids_dir=f'/project/4180000.36/AwakeRodent/bids/{bids_folder}/'\n",
    "input_bids_dir=f'/project/4180000.36/AwakeRodent/scratch/bids/{bids_folder}/sub-0{subj_num}'\n",
    "output_dir=f'/project/4180000.36/AwakeRodent/scratch/RABIES_preprocess/sub-0{subj_num}_ses-{ses_num}'\n",
    "\n",
    "output_dir=f'/project/4180000.36/AwakeRodent/scratch/RABIES_preprocess/sub-0{subj_num}_ses-{ses_num}'\n",
    "if not os.path.exists(f\"{output_dir}/confound_correction_outputs\"):os.makedirs(f\"{output_dir}/confound_correction_outputs\")      # Make directories\n",
    "\n",
    "Cmd_AddRatTemplatePath=f\"-B {template_dir}:/template \" \\\n",
    "#Cmd_AddRatTemplatePath=''\n",
    "\n",
    "confound_cmd = \"/opt/singularity/3.10.3/bin/singularity run \" \\\n",
    "                    f\"-B {input_bids_dir}:/rabies_in:ro \" \\\n",
    "                    f\"-B {output_dir}:/rabies_out \" \\\n",
    "                    f\"-B {output_dir}:/preprocess_outputs/ \" \\\n",
    "                    f\"-B {output_dir}/confound_correction_outputs:/confound_correction_outputs \" \\\n",
    "                    f\"{Cmd_AddRatTemplatePath}\" \\\n",
    "                    \"/opt/rabies/0.5.0/rabies.sif -p MultiProc confound_correction /preprocess_outputs/ /confound_correction_outputs/ \" \\\n",
    "                    f\"--smoothing_filter {smoothing} \" \\\n",
    "                    f\"--TR {TR} \" \\\n",
    "                    \"--highpass 0.01 \" \\\n",
    "                    \"--lowpass 0.1 \" \\\n",
    "                    \"--edge_cutoff 30 \" \\\n",
    "\n",
    "                    #f\"-B {template_dir}:/template \" \\\n",
    "                        \n",
    "# cmd = f'echo \"{confound_cmd}\" | qsub -N Cfond:{specie},{subj_num} -l nodes=1:ppn=1,mem=64gb,walltime=4:00:00'\n",
    "# subprocess.call(cmd, shell=True)\n",
    "\n",
    "cmd = f'echo \"Job running: $(echo \\'{confound_cmd}\\' | qsub -N Cfond:{specie},{subj_num} -l nodes=1:ppn=1,mem=64gb,walltime=4:00:00)\"'\n",
    "subprocess.call(cmd, shell=True)\n",
    "\n",
    "\n",
    "                       "
   ]
  }
 ],
 "metadata": {
  "kernelspec": {
   "display_name": "Python 3",
   "language": "python",
   "name": "python3"
  },
  "language_info": {
   "codemirror_mode": {
    "name": "ipython",
    "version": 3
   },
   "file_extension": ".py",
   "mimetype": "text/x-python",
   "name": "python",
   "nbconvert_exporter": "python",
   "pygments_lexer": "ipython3",
   "version": "3.9.18"
  }
 },
 "nbformat": 4,
 "nbformat_minor": 2
}
