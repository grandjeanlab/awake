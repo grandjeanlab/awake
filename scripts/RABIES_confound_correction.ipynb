{
 "cells": [
  {
   "cell_type": "markdown",
   "metadata": {},
   "source": [
    "<h1 align=\"center\">AwakeRodent, RABIES Condound Correction Code</h1>\n",
    "\n",
    "<p align=\"center\">&nbsp;&nbsp;&nbsp;&nbsp;&nbsp;&nbsp;&nbsp;&nbsp;&nbsp;&nbsp;&nbsp;&nbsp;&nbsp;&nbsp;&nbsp;&nbsp;&nbsp;&nbsp;&nbsp;&nbsp;&nbsp;&nbsp;&nbsp;&nbsp;&nbsp;&nbsp;&nbsp;&nbsp;&nbsp;&nbsp;&nbsp;&nbsp;&nbsp;&nbsp;&nbsp;&nbsp;&nbsp;&nbsp;&nbsp;&nbsp;&nbsp;&nbsp;&nbsp;&nbsp;&nbsp;&nbsp;&nbsp;&nbsp;&nbsp;&nbsp;&nbsp;&nbsp;&nbsp;&nbsp;&nbsp;&nbsp;&nbsp;&nbsp;&nbsp;&nbsp;&nbsp;&nbsp;&nbsp;&nbsp;&nbsp;&nbsp;&nbsp;&nbsp;&nbsp;&nbsp;&nbsp;&nbsp;&nbsp;&nbsp;&nbsp;&nbsp;&nbsp;&nbsp;&nbsp;&nbsp;&nbsp;&nbsp;&nbsp;&nbsp;&nbsp;&nbsp;&nbsp;&nbsp;&nbsp;&nbsp;&nbsp;&nbsp;&nbsp;&nbsp;&nbsp;&nbsp;&nbsp;&nbsp;&nbsp;&nbsp;&nbsp;&nbsp;&nbsp;&nbsp;&nbsp;&nbsp;&nbsp;&nbsp;&nbsp;&nbsp;&nbsp;&nbsp;&nbsp;&nbsp;&nbsp;&nbsp;&nbsp;&nbsp;&nbsp;&nbsp;&nbsp;&nbsp;&nbsp;&nbsp;<i>Marie E Galteau, 2024</i></p>\n",
    "\n",
    "\n",
    "  <table align=\"center\">\n",
    "    <tr>\n",
    "      <td align=\"center\"><img src=\"https://hpc.nih.gov/images/Singularity.png\" alt=\"image\" width=\"40\" /></td>\n",
    "      <td align=\"center\"><img src=\"https://surfer.nmr.mgh.harvard.edu/pub/data/tmp/brain.png\" alt=\"image\" width=\"150\" /></td>\n",
    "      <td align=\"center\"><img src=\"https://fsl.fmrib.ox.ac.uk/fsl/wiki_static/fsl/img/fsl-logo-x2.png\" alt=\"image\" width=\"70\" /></td>\n",
    "    </tr>\n",
    "  </table>\n",
    "</div>"
   ]
  },
  {
   "cell_type": "code",
   "execution_count": 11,
   "metadata": {},
   "outputs": [
    {
     "name": "stdout",
     "output_type": "stream",
     "text": [
      "CHECK Metadata Path: /home/traaffneu/margal/awake_code/awake/scripts/tables/metadata_rabies.tsv\n"
     ]
    }
   ],
   "source": [
    "# -- Load module for singularity -- \n",
    "\n",
    "!module load singularity\n",
    "!module load freesurfer\n",
    "!module load fsl\n",
    "\n",
    "import os \n",
    "import subprocess\n",
    "import pandas as pd\n",
    "from enum import Enum\n",
    "from IPython.display import display, Markdown, Latex\n",
    "\n",
    "# -- !! Init Variables !! -- \n",
    "scripts_folder='/home/traaffneu/margal/awake_code/awake/scripts/'\n",
    "metadata_path ='/home/traaffneu/margal/awake_code/awake/scripts/tables/metadata_rabies.tsv'\n",
    "#metadata_path ='/home/traaffneu/margal/awake_code/awake/scripts/tables/online-ds_metadata_rabies.tsv'\n",
    "\n",
    "\n",
    "df = pd.read_csv(metadata_path, sep='\\t')\n",
    "df = df.loc[(df['exclude'] != 'yes')]\n",
    "\n",
    "print('CHECK Metadata Path:', metadata_path)"
   ]
  },
  {
   "cell_type": "markdown",
   "metadata": {},
   "source": [
    "#### Define RABIES parameters for preprocessing"
   ]
  },
  {
   "cell_type": "code",
   "execution_count": 12,
   "metadata": {},
   "outputs": [],
   "source": [
    "# --- Function: Confound Correction, as a job on HPC ---\n",
    "\n",
    "def qsub_confound_correction_rabies(subj_num, specie, BIDS_input, preprocess_outputs, confound_correction_outputs, regressors_outputs, Cmd_B_rat_template_path, TR, regressor, FD_censoring, FD_threshold, smoothing):\n",
    "    \n",
    "    singularity_path='/opt/singularity/3.10.3/bin/singularity'\n",
    "    if not os.path.exists(confound_correction_outputs):os.makedirs(confound_correction_outputs)  \n",
    "\n",
    "    #-- Create the full command string --\n",
    "    confound_cmd = \"/opt/singularity/3.10.3/bin/singularity run \" \\\n",
    "                        f\"-B {BIDS_input}:/BIDS_input:ro \" \\\n",
    "                        f\"-B {preprocess_outputs}:/preprocess_outputs \" \\\n",
    "                        f\"-B {preprocess_outputs}:/preprocess_outputs/ \" \\\n",
    "                        f\"-B {confound_correction_outputs}:/confound_correction_outputs \" \\\n",
    "                        f\"{Cmd_B_rat_template_path} \" \\\n",
    "                        \"/opt/rabies/0.5.0/rabies.sif -p MultiProc confound_correction /preprocess_outputs/ /confound_correction_outputs/ \" \\\n",
    "                            f\"--TR {TR} \" \\\n",
    "                            \"--highpass 0.01 \" \\\n",
    "                            \"--lowpass 0.1 \" \\\n",
    "                            \"--edge_cutoff 30 \" \\\n",
    "                            f\"--conf_list {regressor} mot_6 \" \\\n",
    "                            f\"--frame_censoring='FD_censoring'={FD_censoring},'FD_threshold'={FD_threshold},'DVARS_censoring'='true','minimum_timepoint'='3' \" \\\n",
    "                            f\"--smoothing_filter {smoothing} \" \\\n",
    "                                \n",
    "    # -- Submit the job --\n",
    "    cmd = f'echo \"Job running: $(echo \\'{confound_cmd}\\'| qsub -N Awk-C:{specie},{subj_num} -l nodes=1:ppn=1,mem=256gb,walltime=1:00:00)\"'\n",
    "    subprocess.call(cmd, shell=True)"
   ]
  },
  {
   "cell_type": "markdown",
   "metadata": {},
   "source": [
    "#### Define variable + Launch RABIES confound correction"
   ]
  },
  {
   "cell_type": "code",
   "execution_count": 13,
   "metadata": {},
   "outputs": [
    {
     "data": {
      "text/markdown": [
       "Specie: **<span style=\"color:#FFA07A\">M</span>**   \n",
       "Rodent num: <span style=\"color:#FF5733\">0100100</span>  \n",
       "Regressors: <span style=\"color:#FF91A4\">WM_signal, CSF_signal, global_signal</span>  \n",
       "Session n°: <span style=\"color:#45B39D\">1</span>  \n",
       "TR: <span style=\"color:#0099FF\">1</span>  \n"
      ],
      "text/plain": [
       "<IPython.core.display.Markdown object>"
      ]
     },
     "metadata": {},
     "output_type": "display_data"
    },
    {
     "name": "stdout",
     "output_type": "stream",
     "text": [
      "Job running: 51041907.dccn-l029.dccn.nl\n",
      "RABIES Confound Correction: WM_signal\n",
      "-----------\n",
      "Job running: 51041908.dccn-l029.dccn.nl\n",
      "RABIES Confound Correction: CSF_signal\n",
      "-----------\n",
      "Job running: 51041909.dccn-l029.dccn.nl\n",
      "RABIES Confound Correction: global_signal\n",
      "-----------\n",
      "Job running: 51041910.dccn-l029.dccn.nl\n",
      "RABIES Confound Correction: global_signal, 0.1\n",
      "-----------\n",
      "Job running: 51041911.dccn-l029.dccn.nl\n",
      "RABIES Confound Correction: global_signal, 0.5\n",
      "-----------\n"
     ]
    }
   ],
   "source": [
    "# --- Run RABIES: Confound Correction ---\n",
    "    \n",
    "for index in range(0, 1):\n",
    "    \n",
    "    # -- Define variables --\n",
    "    subj_num=str(df.iloc[index]['rodent.sub'])[:-2]               #remove the 2 last characters with [:-2]\n",
    "    ses_num=str(df.iloc[index]['rodent.ses'])[:-2] \n",
    "    specie = str(df.iloc[index]['rodent.spiecies']) \n",
    "    TR=str(df.iloc[index]['func.TR'])[:-2]\n",
    "    regressors=str(df.iloc[index]['regressors']) \n",
    "    regressor_list = regressors.split(', ') \n",
    "\n",
    "    \n",
    "    if specie == 'Mouse' :\n",
    "        specie = 'M'\n",
    "        bids_folder = '01-03_mice'\n",
    "        template_dir=''\n",
    "        Cmd_B_rat_template_path=''\n",
    "        smoothing = '0.3'\n",
    "        seed_mask_list=[\"/project/4180000.36/AwakeRodent/scratch/RABIES/template/seed_S1-right_mouse.nii.gz\", \"/project/4180000.36/AwakeRodent/scratch/RABIES/template/seed_S1-left_mouse.nii.gz\"]\n",
    "    \n",
    "    else : #'Rat'\n",
    "        specie = 'R'\n",
    "        bids_folder='02-04_rats'   \n",
    "        template_dir='/groupshare/traaffneu/preclinimg/templates/SIGMA_Wistar_Rat_Brain_TemplatesAndAtlases_Version1.1'\n",
    "        Cmd_B_rat_template_path=f\"-B {template_dir}:/template\"\n",
    "        smoothing='0.5'\n",
    "        seed_mask_list=[\"/project/4180000.36/AwakeRodent/scratch/RABIES/template/seed_S1-right_rat.nii.gz\", \"/project/4180000.36/AwakeRodent/scratch/RABIES/template/seed_S1-left_rat.nii.gz\"]\n",
    "\n",
    "    # -- Print scan infos -- \n",
    "    scan_infos=(f'Specie: **<span style=\"color:#FFA07A\">{specie}</span>**   \\n'\n",
    "                f'Rodent num: <span style=\"color:#FF5733\">0{subj_num}</span>  \\n'     \n",
    "                f'Regressors: <span style=\"color:#FF91A4\">{regressors}</span>  \\n'\n",
    "                f'Session n°: <span style=\"color:#45B39D\">{ses_num}</span>  \\n'\n",
    "                f'TR: <span style=\"color:#0099FF\">{TR}</span>  \\n')\n",
    "    \n",
    "    display(Markdown(scan_infos)) \n",
    "\n",
    "    # -- Input and output directories -- \n",
    "    orig_bids_dir=f'/project/4180000.36/AwakeRodent/bids/{bids_folder}/'\n",
    "    BIDS_input=f'/project/4180000.36/AwakeRodent/scratch/bids/{bids_folder}/sub-0{subj_num}'\n",
    "    preprocess_outputs=f'/project/4180000.36/AwakeRodent/scratch/RABIES/preprocessed/sub-0{subj_num}_ses-{ses_num}'\n",
    "    confound_correction_outputs_base=preprocess_outputs+'/confound_correction/'\n",
    "       \n",
    "    # -- Run RABIES Confound coorection, as a job on the HPC --\n",
    "\n",
    "    for regressor in regressor_list:\n",
    "        \n",
    "        regressors_outputs = os.path.join(confound_correction_outputs_base, regressor)\n",
    "        confound_correction_outputs=regressors_outputs\n",
    "        \n",
    "        FD_censoring = \"false\"\n",
    "        FD_threshold = \"0.05\"\n",
    "        \n",
    "        qsub_confound_correction_rabies(subj_num, specie, BIDS_input, preprocess_outputs, confound_correction_outputs, regressors_outputs, Cmd_B_rat_template_path, TR, regressor, FD_censoring, FD_threshold, smoothing)    \n",
    "        print(f\"RABIES Confound Correction: {regressor}\")\n",
    "        print('-----------') \n",
    "        \n",
    "        if regressor == \"global_signal\":\n",
    "            for FD_threshold in [0.1, 0.5]:                \n",
    "                \n",
    "                global_sign_outputs = os.path.join(confound_correction_outputs_base, f\"Global_signal_{FD_threshold}\")\n",
    "                confound_correction_outputs=global_sign_outputs\n",
    "                \n",
    "                #FD_censoring = f\"--'FD_censoring'='true', 'FD_threshold'={FD_threshold}, 'DVARS_censoring'='true', 'minimum_timepoint'='3'\"\n",
    "                FD_censoring = \"true\"\n",
    "                \n",
    "                qsub_confound_correction_rabies(subj_num, specie, BIDS_input, preprocess_outputs, confound_correction_outputs, regressors_outputs, Cmd_B_rat_template_path, TR, regressor, FD_censoring,FD_threshold,  smoothing)\n",
    "\n",
    "                print(f\"RABIES Confound Correction: {regressor}, {FD_threshold}\")\n",
    "                print('-----------') \n"
   ]
  },
  {
   "cell_type": "markdown",
   "metadata": {},
   "source": [
    "#### TRASH"
   ]
  },
  {
   "cell_type": "code",
   "execution_count": 45,
   "metadata": {},
   "outputs": [
    {
     "name": "stdout",
     "output_type": "stream",
     "text": [
      "['WM_signal', 'CSF_signal', 'Global_signal']\n"
     ]
    }
   ],
   "source": [
    "# -- Creates output folders per regressor -- \n",
    "\n",
    "preprocess_outputs=f'/project/4180000.36/AwakeRodent/scratch/RABIES/RABIES_preprocess/sub-0{subj_num}_ses-{ses_num}'\n",
    "confound_correction_outputs=preprocess_outputs+'/confound_correction_outputs/'\n",
    "\n",
    "regressor_list = regressors.split(', ') \n",
    "\n",
    "for regressor in regressor_list:\n",
    "            \n",
    "    if regressor == \"Global_signal\":\n",
    "        for FD_threshold in [0.1, 0.5]:\n",
    "            FD_censoring = f\" --FD_censoring=true,FD_threshold={FD_threshold},DVARS_censoring=false,minimum_timepoint=3\"\n",
    "        \n",
    "            global_sign_outputs = os.path.join(confound_correction_outputs, f\"Global_signal_{FD_threshold}\")\n",
    "            if not os.path.exists(global_sign_outputs):os.makedirs(global_sign_outputs)           \n",
    "    else:\n",
    "        regressors_outputs = os.path.join(confound_correction_outputs, regressor)\n",
    "        if not os.path.exists(regressors_outputs):os.makedirs(regressors_outputs)  # Create confound_correction_outputs directory\n"
   ]
  }
 ],
 "metadata": {
  "kernelspec": {
   "display_name": "Python 3",
   "language": "python",
   "name": "python3"
  },
  "language_info": {
   "codemirror_mode": {
    "name": "ipython",
    "version": 3
   },
   "file_extension": ".py",
   "mimetype": "text/x-python",
   "name": "python",
   "nbconvert_exporter": "python",
   "pygments_lexer": "ipython3",
   "version": "3.9.18"
  }
 },
 "nbformat": 4,
 "nbformat_minor": 2
}
